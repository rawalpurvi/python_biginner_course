{
 "cells": [
  {
   "cell_type": "markdown",
   "id": "9895eeb0",
   "metadata": {},
   "source": [
    "# Python Beginner Course by Purvi Rawal\n",
    "\n",
    "## Loops and Python Statements\n",
    "\n",
    "### Useful Operators in Python\n",
    "\n",
    "**1. Range :** The rang returns a sequence of numbers, starting from 0 by default, and increments by 1 (by default), and stops before a specified number.\n",
    "\n",
    "**syntex**\n",
    "\n",
    "range(start, stop, step)\n",
    "\n",
    "*start: Optional. An integer number specifying at which position to start. Default is 0*\n",
    "*stop: Required. An integer number specifying at which position to stop (not included).*\n",
    "*step: Optional. An integer number specifying the incrementation. Default is 1\n",
    "\n",
    "**2. Enumerate:** The enumerate takes a collection (e.g. a tuple) and returns it as an enumerate object.The function adds a counter as the key of the enumerate object.\n",
    "\n",
    "**Syntex**\n",
    "\n",
    "enumerate(iterable, start)\n",
    "\n",
    "*iterable: An iterable object*\n",
    "*start: A Number. Defining the start number of the enumerate object. Default 0*\n",
    "\n",
    "**3. Zip :** \n",
    "\n",
    "The zip returns a zip object, which is an iterator of tuples where the first item in each passed iterator is paired together, and then the second item in each passed iterator are paired together etc.\n",
    "\n",
    "If the passed iterators have different lengths, the iterator with the least items decides the length of the new iterator.\n",
    "\n",
    "**Syntex**\n",
    "\n",
    "zip(iterator1, iterator2, iterator3 ...)\n",
    "\n",
    "**4. in :** Operator *in* use to check any object is in list, string and dictonary etc..\n",
    "\n",
    "**syntex**\n",
    "\n",
    "'y' in ['x', 'y', 'z']"
   ]
  },
  {
   "cell_type": "code",
   "execution_count": 1,
   "id": "7cd9af01",
   "metadata": {},
   "outputs": [
    {
     "name": "stdout",
     "output_type": "stream",
     "text": [
      "0\n",
      "1\n",
      "2\n",
      "3\n",
      "4\n",
      "5\n"
     ]
    }
   ],
   "source": [
    "# Example of range\n",
    "\n",
    "for i in range(6):\n",
    "    print(i)"
   ]
  },
  {
   "cell_type": "code",
   "execution_count": 2,
   "id": "e5d18533",
   "metadata": {},
   "outputs": [
    {
     "data": {
      "text/plain": [
       "[0, 1, 2, 3, 4, 5]"
      ]
     },
     "execution_count": 2,
     "metadata": {},
     "output_type": "execute_result"
    }
   ],
   "source": [
    "# Make a list using range\n",
    "\n",
    "list(range(6))"
   ]
  },
  {
   "cell_type": "code",
   "execution_count": 3,
   "id": "b8eb984d",
   "metadata": {},
   "outputs": [
    {
     "name": "stdout",
     "output_type": "stream",
     "text": [
      "0\n",
      "2\n",
      "4\n",
      "6\n",
      "8\n",
      "10\n",
      "12\n",
      "14\n",
      "16\n",
      "18\n"
     ]
    }
   ],
   "source": [
    "# Range with step\n",
    "\n",
    "for i in range(0,20,2):\n",
    "    print(i)"
   ]
  },
  {
   "cell_type": "code",
   "execution_count": 4,
   "id": "5df5f5b3",
   "metadata": {},
   "outputs": [
    {
     "name": "stdout",
     "output_type": "stream",
     "text": [
      "(0, 'January')\n",
      "(1, 'February')\n",
      "(2, 'March')\n",
      "(3, 'April')\n"
     ]
    }
   ],
   "source": [
    "# Ennumerate example\n",
    "\n",
    "month_list = ['January', 'February', 'March', 'April']\n",
    "\n",
    "for month in enumerate(month_list):\n",
    "    print(month)"
   ]
  },
  {
   "cell_type": "code",
   "execution_count": 5,
   "id": "c513b5a4",
   "metadata": {},
   "outputs": [
    {
     "name": "stdout",
     "output_type": "stream",
     "text": [
      "0\n",
      "January\n",
      "1\n",
      "February\n",
      "2\n",
      "March\n",
      "3\n",
      "April\n"
     ]
    }
   ],
   "source": [
    "# Ennumerate function with tuple unpacking\n",
    "\n",
    "for index, month in enumerate(month_list):\n",
    "    print(index)\n",
    "    print(month)"
   ]
  },
  {
   "cell_type": "code",
   "execution_count": 6,
   "id": "e2af468a",
   "metadata": {},
   "outputs": [
    {
     "data": {
      "text/plain": [
       "<zip at 0x103425740>"
      ]
     },
     "execution_count": 6,
     "metadata": {},
     "output_type": "execute_result"
    }
   ],
   "source": [
    "# Example of zip\n",
    "\n",
    "list_1 = ['a', 'b', 'c']\n",
    "list_2 = [1,2,3]\n",
    "\n",
    "zip(list_1, list_2)"
   ]
  },
  {
   "cell_type": "code",
   "execution_count": 7,
   "id": "36b4d503",
   "metadata": {},
   "outputs": [
    {
     "name": "stdout",
     "output_type": "stream",
     "text": [
      "('a', 1)\n",
      "('b', 2)\n",
      "('c', 3)\n"
     ]
    }
   ],
   "source": [
    "# Iterate thrugh for loop\n",
    "\n",
    "for i in zip(list_1,list_2):\n",
    "    print(i)"
   ]
  },
  {
   "cell_type": "code",
   "execution_count": 8,
   "id": "5a6cb357",
   "metadata": {},
   "outputs": [
    {
     "name": "stdout",
     "output_type": "stream",
     "text": [
      "('a', 1, 'w')\n",
      "('b', 2, 'x')\n",
      "('c', 3, 'y')\n"
     ]
    }
   ],
   "source": [
    "# Another example of Zip\n",
    "\n",
    "list_3 = ['w','x', 'y', 'z']\n",
    "\n",
    "for i in zip(list_1,list_2,list_3):\n",
    "    print(i)"
   ]
  },
  {
   "cell_type": "code",
   "execution_count": 9,
   "id": "82f69c06",
   "metadata": {},
   "outputs": [
    {
     "data": {
      "text/plain": [
       "[('a', 1), ('b', 2), ('c', 3)]"
      ]
     },
     "execution_count": 9,
     "metadata": {},
     "output_type": "execute_result"
    }
   ],
   "source": [
    "# Make list from Zip\n",
    "\n",
    "list(zip(list_1,list_2))"
   ]
  },
  {
   "cell_type": "code",
   "execution_count": 10,
   "id": "ab3616c8",
   "metadata": {},
   "outputs": [
    {
     "data": {
      "text/plain": [
       "True"
      ]
     },
     "execution_count": 10,
     "metadata": {},
     "output_type": "execute_result"
    }
   ],
   "source": [
    "# Use 'in' operator\n",
    "\n",
    "'x' in ['x', 'y', 'z']"
   ]
  },
  {
   "cell_type": "code",
   "execution_count": 11,
   "id": "a583c07e",
   "metadata": {},
   "outputs": [
    {
     "data": {
      "text/plain": [
       "True"
      ]
     },
     "execution_count": 11,
     "metadata": {},
     "output_type": "execute_result"
    }
   ],
   "source": [
    "# in operator for string\n",
    "\n",
    "'a' in 'Happy World'"
   ]
  },
  {
   "cell_type": "code",
   "execution_count": 12,
   "id": "cbb25107",
   "metadata": {},
   "outputs": [
    {
     "data": {
      "text/plain": [
       "False"
      ]
     },
     "execution_count": 12,
     "metadata": {},
     "output_type": "execute_result"
    }
   ],
   "source": [
    "# in operator to check key in dictonary\n",
    "\n",
    "my_dist = {1 : 'January', 2:'February', 3:'March', 4:'April'}\n",
    "\n",
    "5 in my_dist\n"
   ]
  }
 ],
 "metadata": {
  "kernelspec": {
   "display_name": "Python 3 (ipykernel)",
   "language": "python",
   "name": "python3"
  },
  "language_info": {
   "codemirror_mode": {
    "name": "ipython",
    "version": 3
   },
   "file_extension": ".py",
   "mimetype": "text/x-python",
   "name": "python",
   "nbconvert_exporter": "python",
   "pygments_lexer": "ipython3",
   "version": "3.9.7"
  }
 },
 "nbformat": 4,
 "nbformat_minor": 5
}
