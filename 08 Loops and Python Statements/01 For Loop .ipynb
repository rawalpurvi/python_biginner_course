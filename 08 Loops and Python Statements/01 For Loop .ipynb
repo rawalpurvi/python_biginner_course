{
 "cells": [
  {
   "cell_type": "markdown",
   "id": "5d49e963",
   "metadata": {},
   "source": [
    "# Python Beginner Course by Purvi Rawal\n",
    "\n",
    "## Loops and Python Statements\n",
    "\n",
    "### Loops\n",
    "\n",
    "Looping means repeating something over and over until a particular condition is satisfied. loop in Python is a control flow statement that is used to repeatedly execute a group of statements as long as the condition is satisfied. \n",
    "\n",
    "#### For Loop\n",
    "\n",
    "A for loop is block of code used for iterating over a sequence (that is either a list, a tuple, a dictionary, a set, or a string). With the for loop we can execute a set of statements, once for each item in a list, tuple, set, string etc. Such a type of statement is also known as an iterative statement.\n",
    "\n",
    "#### Basic syntax of For Loop\n",
    "\n",
    "my_list = [1,2,3,4,5]\n",
    "\n",
    "for i in my_list:\n",
    "\n",
    "    print(i)\n",
    "    \n",
    "**In For loop syntax *my_list* shoud be a list name and *i* is any variable name for iterate all the objects in list**"
   ]
  },
  {
   "cell_type": "code",
   "execution_count": 1,
   "id": "c2713ef3",
   "metadata": {},
   "outputs": [
    {
     "name": "stdout",
     "output_type": "stream",
     "text": [
      "1\n",
      "2\n",
      "3\n",
      "4\n",
      "5\n"
     ]
    }
   ],
   "source": [
    "# Simple exmaple of For loop\n",
    "\n",
    "my_list = [1,2,3,4,5]\n",
    "\n",
    "for i in my_list:\n",
    "    print(i)"
   ]
  },
  {
   "cell_type": "code",
   "execution_count": 2,
   "id": "1ed50ddb",
   "metadata": {},
   "outputs": [
    {
     "name": "stdout",
     "output_type": "stream",
     "text": [
      "2\n",
      "4\n",
      "6\n",
      "8\n"
     ]
    }
   ],
   "source": [
    "# Get even numbers from a list\n",
    "\n",
    "num_list = [1,2,3,4,5,6,7,8]\n",
    "\n",
    "for i in num_list:\n",
    "    if i % 2 == 0:\n",
    "        print(i)"
   ]
  },
  {
   "cell_type": "code",
   "execution_count": 3,
   "id": "bbb38201",
   "metadata": {},
   "outputs": [
    {
     "name": "stdout",
     "output_type": "stream",
     "text": [
      "H\n",
      "e\n",
      "l\n",
      "l\n",
      "o\n",
      " \n",
      "W\n",
      "o\n",
      "r\n",
      "l\n",
      "d\n",
      "!\n"
     ]
    }
   ],
   "source": [
    "# Iterate stirng character\n",
    "\n",
    "for ch in \"Hello World!\":\n",
    "    print(ch)"
   ]
  },
  {
   "cell_type": "code",
   "execution_count": 4,
   "id": "51c1c31e",
   "metadata": {},
   "outputs": [
    {
     "name": "stdout",
     "output_type": "stream",
     "text": [
      "1\n",
      "2\n",
      "3\n",
      "4\n"
     ]
    }
   ],
   "source": [
    "# For loop for tuple\n",
    "\n",
    "tup = (1,2,3,4)\n",
    "\n",
    "for i in tup:\n",
    "    print(i)"
   ]
  },
  {
   "cell_type": "code",
   "execution_count": 5,
   "id": "f66904dd",
   "metadata": {},
   "outputs": [
    {
     "name": "stdout",
     "output_type": "stream",
     "text": [
      "1\n",
      "2\n",
      "3\n",
      "4\n",
      "5\n",
      "6\n"
     ]
    }
   ],
   "source": [
    "# Example of tuple unpacking\n",
    "\n",
    "tup_list = [(1,2), (3,4), (5,6)]\n",
    "\n",
    "for a,b in tup_list:\n",
    "    print(a)\n",
    "    print(b)"
   ]
  },
  {
   "cell_type": "code",
   "execution_count": 6,
   "id": "3fcf5a95",
   "metadata": {},
   "outputs": [
    {
     "name": "stdout",
     "output_type": "stream",
     "text": [
      "(1, 'January')\n",
      "(2, 'February')\n",
      "(3, 'March')\n",
      "(4, 'April')\n"
     ]
    }
   ],
   "source": [
    "# Iterate dictonary items\n",
    "\n",
    "month_dict = { 1 : 'January', 2 : 'February', 3 : 'March', 4 : 'April'}\n",
    "\n",
    "for i in month_dict.items():\n",
    "    print(i)"
   ]
  },
  {
   "cell_type": "code",
   "execution_count": 7,
   "id": "fd91e04b",
   "metadata": {},
   "outputs": [
    {
     "name": "stdout",
     "output_type": "stream",
     "text": [
      "1\n",
      "January\n",
      "2\n",
      "February\n",
      "3\n",
      "March\n",
      "4\n",
      "April\n"
     ]
    }
   ],
   "source": [
    "# Iterate dictonary items\n",
    "\n",
    "month_dict = { 1 : 'January', 2 : 'February', 3 : 'March', 4 : 'April'}\n",
    "\n",
    "for key, value in month_dict.items():\n",
    "    print(key)\n",
    "    print(value)\n",
    "    "
   ]
  },
  {
   "cell_type": "code",
   "execution_count": 8,
   "id": "4df31db0",
   "metadata": {},
   "outputs": [
    {
     "name": "stdout",
     "output_type": "stream",
     "text": [
      "January\n",
      "February\n",
      "March\n",
      "April\n"
     ]
    }
   ],
   "source": [
    "# Get only value from a dictonary\n",
    "\n",
    "for value in month_dict.values():\n",
    "    print(value)"
   ]
  },
  {
   "cell_type": "code",
   "execution_count": 9,
   "id": "31f500ed",
   "metadata": {},
   "outputs": [
    {
     "name": "stdout",
     "output_type": "stream",
     "text": [
      "0\n",
      "1\n",
      "2\n",
      "3\n",
      "4\n",
      "For loop is finished\n"
     ]
    }
   ],
   "source": [
    "'''\n",
    "For Loop with Else : The else keyword in a for loop specifies a block of code to be executed \n",
    "when the loop is finished.\n",
    "'''\n",
    "\n",
    "for i in range(0,5):\n",
    "    print(i)\n",
    "else:\n",
    "    print(\"For loop is finished\")"
   ]
  },
  {
   "cell_type": "code",
   "execution_count": 10,
   "id": "c7127416",
   "metadata": {},
   "outputs": [
    {
     "name": "stdout",
     "output_type": "stream",
     "text": [
      "[2, 20, 2000, 5, 50, 5000, 6, 60, 6000]\n"
     ]
    }
   ],
   "source": [
    "# Nested for loop\n",
    "num1 = [2,5,6]\n",
    "num2 = [1,10,1000]\n",
    "num3 = []\n",
    "\n",
    "for x in num1:\n",
    "    for y in num2:\n",
    "        num3.append( x * y)\n",
    "print(num3)"
   ]
  }
 ],
 "metadata": {
  "kernelspec": {
   "display_name": "Python 3 (ipykernel)",
   "language": "python",
   "name": "python3"
  },
  "language_info": {
   "codemirror_mode": {
    "name": "ipython",
    "version": 3
   },
   "file_extension": ".py",
   "mimetype": "text/x-python",
   "name": "python",
   "nbconvert_exporter": "python",
   "pygments_lexer": "ipython3",
   "version": "3.9.7"
  }
 },
 "nbformat": 4,
 "nbformat_minor": 5
}
