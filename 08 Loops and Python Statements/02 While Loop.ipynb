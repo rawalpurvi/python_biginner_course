{
 "cells": [
  {
   "cell_type": "markdown",
   "id": "0bf52312",
   "metadata": {},
   "source": [
    "# Python Beginner Course by Purvi Rawal\n",
    "\n",
    "## Loops and Python Statements\n",
    "\n",
    "### While Loop\n",
    "\n",
    "With the while loop we can execute a set of statements as long as a condition is true. \n",
    "\n",
    "#### Basic syntax of For Loop¶\n",
    "\n",
    "i = 1\n",
    "\n",
    "while i < 6:\n",
    "\n",
    "    print(i)\n",
    "    \n",
    "    i = i + 1\n",
    "    \n",
    "   \n",
    "The while loop requires relevant variables to be ready, in this example we need to define an indexing variable, i, which we set to 1."
   ]
  },
  {
   "cell_type": "code",
   "execution_count": 1,
   "id": "8523c4de",
   "metadata": {},
   "outputs": [
    {
     "name": "stdout",
     "output_type": "stream",
     "text": [
      "1\n",
      "2\n",
      "3\n",
      "4\n",
      "5\n"
     ]
    }
   ],
   "source": [
    "# While Loop example\n",
    "\n",
    "i = 1\n",
    "while i < 6:\n",
    "    print(i)\n",
    "    i += 1\n",
    "    \n",
    "    "
   ]
  },
  {
   "cell_type": "code",
   "execution_count": 2,
   "id": "df4c2466",
   "metadata": {},
   "outputs": [
    {
     "name": "stdout",
     "output_type": "stream",
     "text": [
      "Please select Y or N : Y\n",
      "Please select Y or N : N\n",
      "User has selected N\n"
     ]
    }
   ],
   "source": [
    "# With the else statement we can run a block of code once when the condition no longer is true\n",
    "\n",
    "flag = True\n",
    "while flag == True:\n",
    "    user_input = input(\"Please select Y or N : \")\n",
    "    if user_input.lower() == 'y':\n",
    "        flag = True\n",
    "    else:\n",
    "        flag = False\n",
    "else:\n",
    "    print(\"User has selected N\")\n",
    "    "
   ]
  }
 ],
 "metadata": {
  "kernelspec": {
   "display_name": "Python 3 (ipykernel)",
   "language": "python",
   "name": "python3"
  },
  "language_info": {
   "codemirror_mode": {
    "name": "ipython",
    "version": 3
   },
   "file_extension": ".py",
   "mimetype": "text/x-python",
   "name": "python",
   "nbconvert_exporter": "python",
   "pygments_lexer": "ipython3",
   "version": "3.9.7"
  }
 },
 "nbformat": 4,
 "nbformat_minor": 5
}
