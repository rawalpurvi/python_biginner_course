{
 "cells": [
  {
   "cell_type": "markdown",
   "id": "d2afa085",
   "metadata": {},
   "source": [
    "# Python Beginner Course by Purvi Rawal\n",
    "\n",
    "## Loops and Python Statements\n",
    "\n",
    "### Python break, continue and pass\n",
    "\n",
    "We can use break, continue and pass statements in out loops to add additional functionality for various cases. The three statement is defined by:\n",
    "\n",
    "* break : Breaks out of the current closet enclosing loop\n",
    "* continue : Goes top to the current closet enclosing loop\n",
    "* pass : Does nothing."
   ]
  },
  {
   "cell_type": "code",
   "execution_count": 1,
   "id": "0c06eddb",
   "metadata": {},
   "outputs": [],
   "source": [
    "my_list = [0,1,2,3,4,5]"
   ]
  },
  {
   "cell_type": "code",
   "execution_count": 2,
   "id": "b3229fac",
   "metadata": {},
   "outputs": [
    {
     "name": "stdout",
     "output_type": "stream",
     "text": [
      "End of for loop\n"
     ]
    }
   ],
   "source": [
    "# Example of Pass statement\n",
    "\n",
    "for i in my_list:\n",
    "    # We don't know yet what to do\n",
    "    \n",
    "    pass\n",
    "\n",
    "print(\"End of for loop\")"
   ]
  },
  {
   "cell_type": "code",
   "execution_count": 3,
   "id": "6c822021",
   "metadata": {},
   "outputs": [
    {
     "name": "stdout",
     "output_type": "stream",
     "text": [
      "1\n",
      "3\n",
      "5\n"
     ]
    }
   ],
   "source": [
    "# Example of continue statement\n",
    "\n",
    "for i in my_list:\n",
    "    if i % 2 == 0:\n",
    "        continue\n",
    "    print(i)"
   ]
  },
  {
   "cell_type": "code",
   "execution_count": 4,
   "id": "1fff76fb",
   "metadata": {},
   "outputs": [
    {
     "name": "stdout",
     "output_type": "stream",
     "text": [
      "0\n",
      "1\n"
     ]
    }
   ],
   "source": [
    "# Example of break statement\n",
    "\n",
    "for i in my_list:\n",
    "    if i == 2:\n",
    "        break\n",
    "    print(i)"
   ]
  },
  {
   "cell_type": "code",
   "execution_count": 5,
   "id": "7ff2b24a",
   "metadata": {},
   "outputs": [
    {
     "name": "stdout",
     "output_type": "stream",
     "text": [
      "1\n"
     ]
    }
   ],
   "source": [
    "# Example of break statement in While loop\n",
    "i = 1\n",
    "while i < 6:\n",
    "    if i == 2:\n",
    "        break\n",
    "    print(i)\n",
    "    i += 1\n"
   ]
  }
 ],
 "metadata": {
  "kernelspec": {
   "display_name": "Python 3 (ipykernel)",
   "language": "python",
   "name": "python3"
  },
  "language_info": {
   "codemirror_mode": {
    "name": "ipython",
    "version": 3
   },
   "file_extension": ".py",
   "mimetype": "text/x-python",
   "name": "python",
   "nbconvert_exporter": "python",
   "pygments_lexer": "ipython3",
   "version": "3.9.7"
  }
 },
 "nbformat": 4,
 "nbformat_minor": 5
}
