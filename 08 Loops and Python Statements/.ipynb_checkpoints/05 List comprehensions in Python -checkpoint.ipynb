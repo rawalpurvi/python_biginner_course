{
 "cells": [
  {
   "cell_type": "markdown",
   "id": "bf388d93",
   "metadata": {},
   "source": [
    "# Python Beginner Course by Purvi Rawal\n",
    "\n",
    "## Loops and Python Statements\n",
    "\n",
    "### List comprehensions in Python \n",
    "\n",
    "List comprehenstions is the quickest way to create a new list in python. With list comprehension you can make a new list with only one line of code.\n",
    "\n",
    "\n",
    "**Syntex**\n",
    "\n",
    "newlist = [expression for item in iterable]\n",
    "\n",
    "**Syntex with if statement**\n",
    "\n",
    "newlist = [expression for item in iterable if condition == True]"
   ]
  },
  {
   "cell_type": "code",
   "execution_count": 1,
   "id": "9bed4572",
   "metadata": {},
   "outputs": [
    {
     "name": "stdout",
     "output_type": "stream",
     "text": [
      "['H', 'e', 'l', 'l', 'o', ' ', 'W', 'o', 'r', 'l', 'd', '!']\n"
     ]
    }
   ],
   "source": [
    "# Example of list comprehensions\n",
    "\n",
    "my_list = [ x for x in 'Hello World!']\n",
    "print(my_list)"
   ]
  },
  {
   "cell_type": "code",
   "execution_count": 2,
   "id": "24ff0874",
   "metadata": {},
   "outputs": [
    {
     "name": "stdout",
     "output_type": "stream",
     "text": [
      "[0, 1, 2, 3, 4, 5, 6, 7, 8, 9]\n"
     ]
    }
   ],
   "source": [
    "# Use range function \n",
    "\n",
    "nums = [n for n in range(0,10)]\n",
    "print(nums)"
   ]
  },
  {
   "cell_type": "code",
   "execution_count": 3,
   "id": "19959033",
   "metadata": {},
   "outputs": [
    {
     "name": "stdout",
     "output_type": "stream",
     "text": [
      "[2, 4, 6, 8]\n"
     ]
    }
   ],
   "source": [
    "# Use if statement \n",
    "\n",
    "even_num = [i for i in range(1,10) if i % 2 == 0]\n",
    "print(even_num)\n"
   ]
  },
  {
   "cell_type": "code",
   "execution_count": 4,
   "id": "da157feb",
   "metadata": {},
   "outputs": [
    {
     "name": "stdout",
     "output_type": "stream",
     "text": [
      "[1, 4, 9, 16, 25, 36, 49, 64, 81]\n"
     ]
    }
   ],
   "source": [
    "# Squared the nums\n",
    "\n",
    "sqr_nums = [x**2 for x in range(1,10)]\n",
    "print(sqr_nums)"
   ]
  },
  {
   "cell_type": "code",
   "execution_count": 5,
   "id": "02b8ed75",
   "metadata": {},
   "outputs": [
    {
     "name": "stdout",
     "output_type": "stream",
     "text": [
      "['apple', 'orange', 'cherry', 'kiwi', 'mango']\n"
     ]
    }
   ],
   "source": [
    "# Use if and else both \n",
    "\n",
    "fruits = [\"apple\", \"banana\", \"cherry\", \"kiwi\", \"mango\"]\n",
    "\n",
    "newlist = [x if x != \"banana\" else \"orange\" for x in fruits]\n",
    "print(newlist)"
   ]
  },
  {
   "cell_type": "code",
   "execution_count": 6,
   "id": "667c1043",
   "metadata": {},
   "outputs": [
    {
     "name": "stdout",
     "output_type": "stream",
     "text": [
      "['odd', 2, 'odd', 4, 'odd', 6, 'odd', 8, 'odd']\n"
     ]
    }
   ],
   "source": [
    "# Another example of if and else statement\n",
    "\n",
    "numlist = [x if x%2 == 0 else 'odd' for x in range(1,10)]\n",
    "print(numlist)"
   ]
  },
  {
   "cell_type": "code",
   "execution_count": 7,
   "id": "672d9d41",
   "metadata": {},
   "outputs": [
    {
     "name": "stdout",
     "output_type": "stream",
     "text": [
      "[2, 20, 2000, 5, 50, 5000, 6, 60, 6000]\n"
     ]
    }
   ],
   "source": [
    "# For nested loop\n",
    "\n",
    "num1 = [2,5,6]\n",
    "num2 = [1,10,1000]\n",
    "num_list = [x * y for x in num1 for y in num2]\n",
    "\n",
    "print(num_list)"
   ]
  }
 ],
 "metadata": {
  "kernelspec": {
   "display_name": "Python 3 (ipykernel)",
   "language": "python",
   "name": "python3"
  },
  "language_info": {
   "codemirror_mode": {
    "name": "ipython",
    "version": 3
   },
   "file_extension": ".py",
   "mimetype": "text/x-python",
   "name": "python",
   "nbconvert_exporter": "python",
   "pygments_lexer": "ipython3",
   "version": "3.9.7"
  }
 },
 "nbformat": 4,
 "nbformat_minor": 5
}
