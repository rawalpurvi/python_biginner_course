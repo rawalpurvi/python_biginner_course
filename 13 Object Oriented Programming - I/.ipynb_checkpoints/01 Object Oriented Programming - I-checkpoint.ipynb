{
 "cells": [
  {
   "cell_type": "markdown",
   "id": "f46dbf53",
   "metadata": {},
   "source": [
    "# Python Beginner Course by Purvi Rawal\n",
    "\n",
    "## Object Oriented Programming - I\n",
    "\n",
    "Python is an object oriented programming language. Almost everything in Python is an object, with its properties and methods. A Class is like an object constructor for creating objects.\n",
    "\n",
    "### Define Class\n",
    "\n",
    "To create a class, use the keyword class."
   ]
  },
  {
   "cell_type": "code",
   "execution_count": 1,
   "id": "7a43a07a",
   "metadata": {},
   "outputs": [
    {
     "data": {
      "text/plain": [
       "<__main__.MyClass at 0x7f79a0b20eb0>"
      ]
     },
     "execution_count": 1,
     "metadata": {},
     "output_type": "execute_result"
    }
   ],
   "source": [
    "# Example of define a class\n",
    "\n",
    "class MyClass:\n",
    "    pass\n",
    "\n",
    "# Call class\n",
    "MyClass()"
   ]
  },
  {
   "cell_type": "markdown",
   "id": "fd32f79d",
   "metadata": {},
   "source": [
    "### Creating a class\n",
    "\n",
    "In the example access the different attributes and methods of a class using the class objects."
   ]
  },
  {
   "cell_type": "code",
   "execution_count": 2,
   "id": "ddf3eedf",
   "metadata": {},
   "outputs": [
    {
     "name": "stdout",
     "output_type": "stream",
     "text": [
      "Please enter your name : Purvi\n",
      "Hello, Purvi!\n"
     ]
    }
   ],
   "source": [
    "# Example of create a new class\n",
    "\n",
    "class Student:\n",
    "    \n",
    "    name = input(\"Please enter your name : \")\n",
    "\n",
    "# Call class attribute\n",
    "Student.name\n",
    "print(f'Hello, {Student.name}!')"
   ]
  },
  {
   "cell_type": "markdown",
   "id": "71c5d992",
   "metadata": {},
   "source": [
    "### Creating an object\n",
    "\n",
    "Now we can use the class name to create objects. Using object we can access attributes and methods. Objects are useful to create as many intances as we want of class. "
   ]
  },
  {
   "cell_type": "code",
   "execution_count": 3,
   "id": "233ec91e",
   "metadata": {},
   "outputs": [
    {
     "data": {
      "text/plain": [
       "5"
      ]
     },
     "execution_count": 3,
     "metadata": {},
     "output_type": "execute_result"
    }
   ],
   "source": [
    "# Example of create a object of class\n",
    "\n",
    "class Salary:\n",
    "    \n",
    "    increment = 5\n",
    "\n",
    "# Create an object of class\n",
    "s1 = Salary()\n",
    "s1.increment"
   ]
  },
  {
   "cell_type": "markdown",
   "id": "8d57bff7",
   "metadata": {},
   "source": [
    "### Constructors\n",
    "\n",
    "The examples above are classes and objects in their simplest form, and are not really useful in real life applications. In Python, the __init__() function is special because it is called when a new object of its class is instantiated. The object is also called constructor because it is used to initialize all variables. \n",
    "\n",
    "* **Self :** The self parameter is a reference to the current instance of the class, and is used to access variables that belongs to the class. It does not have to be named self , you can call it whatever you like, but it has to be the first parameter of any function in the class\n",
    "\n",
    "\n",
    "### Attribute and Object\n",
    "\n",
    "An instance/object attribute is a variable that belongs to one (and only one) object. Every instance of a class points to its own attributes variables. These attributes are defined within the __init__ constructor. Objects can also contain methods. Methods in objects are functions that belong to the object.\n"
   ]
  },
  {
   "cell_type": "code",
   "execution_count": 4,
   "id": "e8e91c7e",
   "metadata": {},
   "outputs": [
    {
     "name": "stdout",
     "output_type": "stream",
     "text": [
      "Hello, Purvi Rawal!\n"
     ]
    },
    {
     "data": {
      "text/plain": [
       "'Purvi'"
      ]
     },
     "execution_count": 4,
     "metadata": {},
     "output_type": "execute_result"
    }
   ],
   "source": [
    "# Example of __ini__() function (Constructors)\n",
    "\n",
    "class Person:\n",
    "    \n",
    "    def __init__(self,first_name,last_name):\n",
    "    \n",
    "        self.first_name = first_name\n",
    "        self.last_name = last_name\n",
    "    \n",
    "    def hello(self):\n",
    "        \n",
    "        print(f'Hello, {self.first_name} {self.last_name}!')\n",
    "\n",
    "        \n",
    "# Create an object\n",
    "p1 = Person(\"Purvi\",\"Rawal\")\n",
    "\n",
    "# Access atrribute and methods using object\n",
    "p1.hello()\n",
    "p1.first_name # Instance attribute"
   ]
  }
 ],
 "metadata": {
  "kernelspec": {
   "display_name": "Python 3 (ipykernel)",
   "language": "python",
   "name": "python3"
  },
  "language_info": {
   "codemirror_mode": {
    "name": "ipython",
    "version": 3
   },
   "file_extension": ".py",
   "mimetype": "text/x-python",
   "name": "python",
   "nbconvert_exporter": "python",
   "pygments_lexer": "ipython3",
   "version": "3.10.9"
  }
 },
 "nbformat": 4,
 "nbformat_minor": 5
}
