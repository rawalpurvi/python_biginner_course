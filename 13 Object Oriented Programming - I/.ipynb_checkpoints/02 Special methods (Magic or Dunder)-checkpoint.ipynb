{
 "cells": [
  {
   "cell_type": "markdown",
   "id": "25924783",
   "metadata": {},
   "source": [
    "# Python Beginner Course by Purvi Rawal\n",
    "\n",
    "## Object Oriented Programming - I\n",
    "\n",
    "### Special methods (Magic or Dunder)\n",
    "\n",
    "In Python, special methods are a set of predefined methods you can use to enrich your classes. They are easy to recognize because they start and end with double underscores, for example __init__ or __str__ . Special methods can also be referred to as “dunder” (double-underscore) methods.\n",
    "\n",
    "\n",
    "#### str() :\n",
    "The __str__() function controls what should be returned when the class object is represented as a string. If the __str__() function is not set, the string representation of the object is returned."
   ]
  },
  {
   "cell_type": "code",
   "execution_count": 1,
   "id": "4446a334",
   "metadata": {},
   "outputs": [
    {
     "name": "stdout",
     "output_type": "stream",
     "text": [
      "<__main__.Car object at 0x1074236d0>\n"
     ]
    }
   ],
   "source": [
    "# Example of class without string representation\n",
    "\n",
    "class Car:\n",
    "    \n",
    "    def __init__(self,color,brand):\n",
    "        \n",
    "        self.color = color\n",
    "        self.brand = brand\n",
    "\n",
    "# Create an object\n",
    "car1 = Car(\"black\",\"Honda-CRV\")\n",
    "print(car1) # Print gives string represtation of class object"
   ]
  },
  {
   "cell_type": "code",
   "execution_count": 2,
   "id": "de6b73ec",
   "metadata": {},
   "outputs": [
    {
     "name": "stdout",
     "output_type": "stream",
     "text": [
      "black, Honda-CRV\n"
     ]
    }
   ],
   "source": [
    "# Example of class with string representation\n",
    "\n",
    "class Car:\n",
    "    \n",
    "    def __init__(self,color,brand):\n",
    "        \n",
    "        self.color = color\n",
    "        self.brand = brand\n",
    "    \n",
    "    def __str__(self):\n",
    "        \n",
    "        return f\"{self.color}, {self.brand}\"\n",
    "      \n",
    "# Create an object\n",
    "car1 = Car(\"black\",\"Honda-CRV\")\n",
    "print(car1) # Print gives string represtation of class object"
   ]
  },
  {
   "cell_type": "markdown",
   "id": "631a3315",
   "metadata": {},
   "source": [
    "#### __len__ () :\n",
    "The __len__ function also we can define inside the class and give len of the object. "
   ]
  },
  {
   "cell_type": "code",
   "execution_count": 3,
   "id": "b3e7da15",
   "metadata": {},
   "outputs": [
    {
     "ename": "TypeError",
     "evalue": "object of type 'Car' has no len()",
     "output_type": "error",
     "traceback": [
      "\u001b[0;31m---------------------------------------------------------------------------\u001b[0m",
      "\u001b[0;31mTypeError\u001b[0m                                 Traceback (most recent call last)",
      "Cell \u001b[0;32mIn[3], line 3\u001b[0m\n\u001b[1;32m      1\u001b[0m \u001b[38;5;66;03m# Without __len__ representation \u001b[39;00m\n\u001b[0;32m----> 3\u001b[0m \u001b[38;5;28;43mlen\u001b[39;49m\u001b[43m(\u001b[49m\u001b[43mcar1\u001b[49m\u001b[43m)\u001b[49m\n",
      "\u001b[0;31mTypeError\u001b[0m: object of type 'Car' has no len()"
     ]
    }
   ],
   "source": [
    "# Without __len__ representation \n",
    "\n",
    "len(car1)"
   ]
  },
  {
   "cell_type": "code",
   "execution_count": 4,
   "id": "fa4377ef",
   "metadata": {},
   "outputs": [
    {
     "data": {
      "text/plain": [
       "185"
      ]
     },
     "execution_count": 4,
     "metadata": {},
     "output_type": "execute_result"
    }
   ],
   "source": [
    "# Example of class with  __len__ representation\n",
    "\n",
    "class Car:\n",
    "    \n",
    "    def __init__(self,color,brand,length):\n",
    "        \n",
    "        self.color = color\n",
    "        self.brand = brand\n",
    "        self.length = length\n",
    "    \n",
    "    def __str__(self):\n",
    "        \n",
    "        return f\"{self.color}, {self.brand}\"\n",
    "    \n",
    "    def __len__(self):\n",
    "        \n",
    "        return self.length\n",
    "        \n",
    "        \n",
    "# Create an object\n",
    "car1 = Car(\"black\",\"Honda-CRV\",185)\n",
    "len(car1)"
   ]
  },
  {
   "cell_type": "markdown",
   "id": "e1875716",
   "metadata": {},
   "source": [
    "#### __del__() : \n",
    "\n",
    "The __del__ function also we can define inside the class and after delete the object we can print some message to display.\n"
   ]
  },
  {
   "cell_type": "code",
   "execution_count": 5,
   "id": "df3b5c8b",
   "metadata": {},
   "outputs": [
    {
     "name": "stdout",
     "output_type": "stream",
     "text": [
      "Car object has been deleted\n"
     ]
    }
   ],
   "source": [
    "# Example of class with  __del__ representation\n",
    "\n",
    "class Car:\n",
    "    \n",
    "    def __init__(self,color,brand,length):\n",
    "        \n",
    "        self.color = color\n",
    "        self.brand = brand\n",
    "        self.length = length\n",
    "    \n",
    "    def __str__(self):\n",
    "        \n",
    "        return f\"{self.color}, {self.brand}\"\n",
    "    \n",
    "    def __len__(self):\n",
    "        \n",
    "        return self.length\n",
    "    \n",
    "    def __del__(self):\n",
    "        \n",
    "        print(\"Car object has been deleted\")\n",
    "        \n",
    "        \n",
    "# Create an object\n",
    "car1 = Car(\"black\",\"Honda-CRV\",185)\n",
    "del(car1)"
   ]
  },
  {
   "cell_type": "code",
   "execution_count": 6,
   "id": "a8b84eb5",
   "metadata": {},
   "outputs": [
    {
     "ename": "NameError",
     "evalue": "name 'car1' is not defined",
     "output_type": "error",
     "traceback": [
      "\u001b[0;31m---------------------------------------------------------------------------\u001b[0m",
      "\u001b[0;31mNameError\u001b[0m                                 Traceback (most recent call last)",
      "Cell \u001b[0;32mIn[6], line 1\u001b[0m\n\u001b[0;32m----> 1\u001b[0m \u001b[43mcar1\u001b[49m\n",
      "\u001b[0;31mNameError\u001b[0m: name 'car1' is not defined"
     ]
    }
   ],
   "source": [
    "car1"
   ]
  }
 ],
 "metadata": {
  "kernelspec": {
   "display_name": "Python 3 (ipykernel)",
   "language": "python",
   "name": "python3"
  },
  "language_info": {
   "codemirror_mode": {
    "name": "ipython",
    "version": 3
   },
   "file_extension": ".py",
   "mimetype": "text/x-python",
   "name": "python",
   "nbconvert_exporter": "python",
   "pygments_lexer": "ipython3",
   "version": "3.10.9"
  }
 },
 "nbformat": 4,
 "nbformat_minor": 5
}
