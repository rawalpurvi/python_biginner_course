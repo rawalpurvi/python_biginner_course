{
 "cells": [
  {
   "cell_type": "markdown",
   "id": "fa402274",
   "metadata": {},
   "source": [
    "# Python Beginner Course by Purvi Rawal\n",
    "\n",
    "## Errors and Exception\n",
    "\n",
    "### Try Except method to handle error\n",
    "\n",
    "When an error occurs, or exception as we call it, Python will normally stop and generate an error message. These exceptions can be handled using the try statement. Since the try block raises an error, the except block will be executed. Without the try block, the program will crash and raise an error.\n",
    "\n",
    "* **The try block :** lets you test a block of code for errors.\n",
    "\n",
    "* **The except block :** lets you handle the error.\n",
    "\n",
    "* **The else block :** lets you execute code when there is no error.\n",
    "\n",
    "* **The finally block :** lets you execute code, regardless of the result of the try- and except blocks."
   ]
  },
  {
   "cell_type": "code",
   "execution_count": 1,
   "id": "7329d81d",
   "metadata": {},
   "outputs": [
    {
     "name": "stdout",
     "output_type": "stream",
     "text": [
      "Please give any nymber : y\n",
      "It should be a number\n",
      "This is finally block. It runs everytime\n"
     ]
    }
   ],
   "source": [
    "# Example of try..except block\n",
    "\n",
    "try:\n",
    "    num_input = int(input(\"Please give any nymber : \"))\n",
    "except:\n",
    "    print(\"It should be a number\")\n",
    "else:\n",
    "    print(f\"The number is : {num_input}\")\n",
    "finally:\n",
    "    print(\"This is finally block. It runs everytime\")"
   ]
  },
  {
   "cell_type": "markdown",
   "id": "9ec781de",
   "metadata": {},
   "source": [
    "### Handling Exception\n",
    "\n",
    "You can define as many exception blocks as you want, e.g. if you want to execute a special block of code for a special kind of error. \n",
    "\n",
    "**Built-in Exceptions :**  These exceptions are able to define the error situation so that we can understand the reason of getting this error.\n",
    "\n",
    "**Link to built-in exception :** https://docs.python.org/3.10/library/exceptions.html#BaseException"
   ]
  },
  {
   "cell_type": "code",
   "execution_count": 2,
   "id": "87344ae4",
   "metadata": {},
   "outputs": [
    {
     "name": "stdout",
     "output_type": "stream",
     "text": [
      "OS error: [Errno 2] No such file or directory: 'myfile.txt'\n"
     ]
    }
   ],
   "source": [
    "# Example of handling exception\n",
    "\n",
    "import sys\n",
    "\n",
    "try:\n",
    "    f = open('myfile.txt')\n",
    "    s = f.readline()\n",
    "    i = int(s.strip())\n",
    "except OSError as err:\n",
    "    print(\"OS error: {0}\".format(err))\n",
    "except ValueError:\n",
    "    print(\"Could not convert data to an integer.\")\n",
    "else:\n",
    "    print(\"File successfully opened\")"
   ]
  },
  {
   "cell_type": "markdown",
   "id": "30ffc4cd",
   "metadata": {},
   "source": [
    "### Raising Exception\n",
    "\n",
    "As a Python developer you can choose to throw an exception if a condition occurs. To throw (or raise) an exception, use the raise keyword. You can define what kind of error to raise, and the text to print to the user."
   ]
  },
  {
   "cell_type": "code",
   "execution_count": 3,
   "id": "381054b5",
   "metadata": {},
   "outputs": [
    {
     "ename": "Exception",
     "evalue": "Sorry, number should be greater 0",
     "output_type": "error",
     "traceback": [
      "\u001b[0;31m---------------------------------------------------------------------------\u001b[0m",
      "\u001b[0;31mException\u001b[0m                                 Traceback (most recent call last)",
      "Cell \u001b[0;32mIn[3], line 6\u001b[0m\n\u001b[1;32m      4\u001b[0m y \u001b[38;5;241m=\u001b[39m \u001b[38;5;241m0\u001b[39m\n\u001b[1;32m      5\u001b[0m \u001b[38;5;28;01mif\u001b[39;00m y \u001b[38;5;241m==\u001b[39m \u001b[38;5;241m0\u001b[39m:\n\u001b[0;32m----> 6\u001b[0m   \u001b[38;5;28;01mraise\u001b[39;00m \u001b[38;5;167;01mException\u001b[39;00m(\u001b[38;5;124m\"\u001b[39m\u001b[38;5;124mSorry, number should be greater 0\u001b[39m\u001b[38;5;124m\"\u001b[39m)\n\u001b[1;32m      7\u001b[0m \u001b[38;5;28;01melse\u001b[39;00m:\n\u001b[1;32m      8\u001b[0m     \u001b[38;5;28mprint\u001b[39m(x\u001b[38;5;241m/\u001b[39my)\n",
      "\u001b[0;31mException\u001b[0m: Sorry, number should be greater 0"
     ]
    }
   ],
   "source": [
    "# Example of raise an exception\n",
    "\n",
    "x = 5\n",
    "y = 0\n",
    "if y == 0:\n",
    "  raise Exception(\"Sorry, number should be greater 0\")\n",
    "else:\n",
    "    print(x/y)"
   ]
  }
 ],
 "metadata": {
  "kernelspec": {
   "display_name": "Python 3 (ipykernel)",
   "language": "python",
   "name": "python3"
  },
  "language_info": {
   "codemirror_mode": {
    "name": "ipython",
    "version": 3
   },
   "file_extension": ".py",
   "mimetype": "text/x-python",
   "name": "python",
   "nbconvert_exporter": "python",
   "pygments_lexer": "ipython3",
   "version": "3.9.7"
  }
 },
 "nbformat": 4,
 "nbformat_minor": 5
}
