{
 "cells": [
  {
   "cell_type": "markdown",
   "id": "a1398635",
   "metadata": {},
   "source": [
    "# Python Beginner Course by Purvi Rawal\n",
    "\n",
    "## Modules in Python\n",
    "\n",
    "### Introduction to modules\n",
    "\n",
    "Consider a module to be the same as a code library. A file containing a set of functions you want to include in your application. A module is a piece of code (an additional file) which may be imported into other python programs so that it's fucntionality can be used without duplicating the code. \n",
    "\n",
    "In addition, they have the ability to create new classes and variables. Modules are utilized through the import of pre-existing code. We have already use math libray and how to import functions form the library.\n",
    "\n",
    "### How to create a Module\n",
    "\n",
    "To create a module just save the code you want in a file with the file extension .py:\n",
    "\n",
    "\n",
    "* Example of module\n",
    "\n",
    "def my_function(name):\n",
    "\n",
    "    print(\"Hello, \" + name)\n",
    "\n",
    "**Save this code as mymodule.py**\n",
    "\n",
    "### Import statement\n",
    "\n",
    "Now we can use the module we just created, by using the import statement:\n",
    "\n",
    "* Example of import\n",
    "\n",
    "import mymodule\n",
    "\n",
    "mymodule.my_fuction(\"Purvi\")\n",
    "\n",
    "**Use my_fuction in another file by importing mymodule.py**\n"
   ]
  }
 ],
 "metadata": {
  "kernelspec": {
   "display_name": "Python 3 (ipykernel)",
   "language": "python",
   "name": "python3"
  },
  "language_info": {
   "codemirror_mode": {
    "name": "ipython",
    "version": 3
   },
   "file_extension": ".py",
   "mimetype": "text/x-python",
   "name": "python",
   "nbconvert_exporter": "python",
   "pygments_lexer": "ipython3",
   "version": "3.9.7"
  }
 },
 "nbformat": 4,
 "nbformat_minor": 5
}
