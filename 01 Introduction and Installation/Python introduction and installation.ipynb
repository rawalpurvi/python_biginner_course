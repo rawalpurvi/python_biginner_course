{
 "cells": [
  {
   "cell_type": "markdown",
   "id": "ab5b828e",
   "metadata": {},
   "source": [
    "# Python Beginner Course by Purvi Rawal\n",
    "                            \n",
    "## Python Introduction:\n",
    "\n",
    "The multipurpose language was developed by Guido Van Rossum in 1991. Python is a very simple languge to learn and use. Python applications have an readable like English-like appearance. Because of its easy to understand, it is perfect to learn programming for beginners. Python was created to make our lives a lot easier as a programmer. \n",
    "\n",
    "### Applications develop in Python:\n",
    "\n",
    "1. Web\n",
    "2. Audio and video applications.\n",
    "3. Desktop GUI\n",
    "4. Web scraping\n",
    "4. Scientific applications\n",
    "5. Andriod applications\n",
    "6. Games\n",
    "7. GUI applications\n",
    "8. Business applications and many more..\n",
    "\n",
    "\n",
    "## Python installation:\n",
    "\n",
    "### Download Python:\n",
    "\n",
    "From Download python https://www.python.org/downloads/ select a link as per your operating system. After install python to your system run 'python' command to check if python installed. \n",
    "\n",
    "### Command to install Jupyter Notebook:\n",
    "\n",
    "Upgrade pip: pip install --upgrade pip\n",
    "\n",
    "Install jupyter notebook: pip install --upgrade ipython jupyter\n",
    "\n",
    "Open notebook: jupyter notebook"
   ]
  }
 ],
 "metadata": {
  "kernelspec": {
   "display_name": "Python 3 (ipykernel)",
   "language": "python",
   "name": "python3"
  },
  "language_info": {
   "codemirror_mode": {
    "name": "ipython",
    "version": 3
   },
   "file_extension": ".py",
   "mimetype": "text/x-python",
   "name": "python",
   "nbconvert_exporter": "python",
   "pygments_lexer": "ipython3",
   "version": "3.9.7"
  }
 },
 "nbformat": 4,
 "nbformat_minor": 5
}
