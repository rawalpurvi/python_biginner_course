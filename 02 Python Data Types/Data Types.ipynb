{
 "cells": [
  {
   "cell_type": "markdown",
   "id": "db6c2e1f",
   "metadata": {},
   "source": [
    "# Python Beginner Course by Purvi Rawal\n",
    "\n",
    "\n",
    "## Data Types\n",
    "\n",
    "Every programming language has a data that allow it to function and operate in the way we want. The data can be a text, a number, string or any other thing. Here is the list of data types.  \n",
    "\n",
    "\n",
    "### Different Data Types and Variables\n",
    "\n",
    "1. **String**\n",
    "2. **Numeric**\n",
    "3. **Boolean**\n",
    "3. **List**\n",
    "4. **Variable**\n",
    "5. **User Input Values**\n",
    "\n",
    "\n",
    "*  **String**  *Type* str\n",
    "\n",
    "In Python or other programming languages, any text values such as names, places or sentaces, are reffered as a string.\n",
    "A string is collection of character not just words and letters, marked by single or double quotation marks. We can display string with print function. "
   ]
  },
  {
   "cell_type": "code",
   "execution_count": 1,
   "id": "3842f6c2",
   "metadata": {},
   "outputs": [
    {
     "name": "stdout",
     "output_type": "stream",
     "text": [
      "Hello World!\n"
     ]
    }
   ],
   "source": [
    "# String examples\n",
    "print(\"Hello World!\")"
   ]
  },
  {
   "cell_type": "code",
   "execution_count": 2,
   "id": "1ba39369",
   "metadata": {},
   "outputs": [
    {
     "ename": "SyntaxError",
     "evalue": "invalid syntax (2905015637.py, line 2)",
     "output_type": "error",
     "traceback": [
      "\u001b[0;36m  Cell \u001b[0;32mIn[2], line 2\u001b[0;36m\u001b[0m\n\u001b[0;31m    print('This is python beginner course's example')\u001b[0m\n\u001b[0m                                          ^\u001b[0m\n\u001b[0;31mSyntaxError\u001b[0m\u001b[0;31m:\u001b[0m invalid syntax\n"
     ]
    }
   ],
   "source": [
    "# Comman mistakes with string\n",
    "print('This is python beginner course's example')"
   ]
  },
  {
   "cell_type": "code",
   "execution_count": 3,
   "id": "018754c2",
   "metadata": {},
   "outputs": [
    {
     "name": "stdout",
     "output_type": "stream",
     "text": [
      "This is a python beginner course's example\n"
     ]
    }
   ],
   "source": [
    "# Correct representation of string\n",
    "print(\"This is a python beginner course's example\")"
   ]
  },
  {
   "cell_type": "markdown",
   "id": "2a4f49b4",
   "metadata": {},
   "source": [
    "* **Numeric**  \n",
    "\n",
    "  Python has two types of numbers:\n",
    "  \n",
    "1. Integer :\n",
    "    *Type* int - A positive/Negative number without any decimal points.\n",
    "    \n",
    "    \n",
    "        Example : 10, 200, 350\n",
    "    \n",
    "2. Float :\n",
    "    *Type* float - A real number that has a decimal point represtation. \n",
    "    \n",
    "    \n",
    "        Example : 10.5, 20.6, 150.0\n",
    "        \n",
    "* **Boolean**  *Type* bool \n",
    "   \n",
    "\n",
    "      Example: Logical value indicating True or False\n",
    "\n",
    "*  **List**   *Type:* list\n",
    "     List is a objects, values or stores data in brackets([])."
   ]
  },
  {
   "cell_type": "code",
   "execution_count": 4,
   "id": "85ebee26",
   "metadata": {},
   "outputs": [
    {
     "data": {
      "text/plain": [
       "['JAVA', 'PHP', 'Python', 'C language']"
      ]
     },
     "execution_count": 4,
     "metadata": {},
     "output_type": "execute_result"
    }
   ],
   "source": [
    "# Expale of list\n",
    "['JAVA', 'PHP', 'Python', 'C language']"
   ]
  },
  {
   "cell_type": "markdown",
   "id": "e30d569b",
   "metadata": {},
   "source": [
    "* **Variables** \n",
    "\n",
    "\n",
    "Variable is the container to store a specific type of value in them. That variable can be accessed, called, modified, or even removed. Variable can store any types of data.\n",
    "\n",
    "*Rules for Python variables:*\n",
    "1. A variable name must start with a letter or the underscore character\n",
    "2. A variable name cannot start with a number\n",
    "3. A variable name can only contain alpha-numeric characters and underscores (A-z, 0-9, and _ )\n",
    "4. Variable names are case-sensitive (age, Age and AGE are three different variables)\n",
    "5. Avoid using special meaning in Python as a variable such as \"str\", \"list\" \n"
   ]
  },
  {
   "cell_type": "code",
   "execution_count": 5,
   "id": "0b009874",
   "metadata": {},
   "outputs": [
    {
     "data": {
      "text/plain": [
       "['Introduction', 'Installation', 'Data Types']"
      ]
     },
     "execution_count": 5,
     "metadata": {},
     "output_type": "execute_result"
    }
   ],
   "source": [
    "# Example of variables\n",
    "\n",
    "course = \"Python beginner course\" # String\n",
    "topics = 15 # Integer\n",
    "hours = 19.5 # Float\n",
    "is_variable = True # Boolen\n",
    "topic_list = ['Introduction', 'Installation', 'Data Types'] # List\n",
    "\n",
    "# Run varible to see the value\n",
    "topic_list"
   ]
  },
  {
   "cell_type": "markdown",
   "id": "34f4ccd7",
   "metadata": {},
   "source": [
    "* **User Input Values**\n",
    "\n",
    "Sometimes in programming we need user inputs for example to fill any form or to play a game etc. Python has a Input() function to take any kind of input from user.  By default it will take string input. We need to convert if we want them into specific Data Types."
   ]
  },
  {
   "cell_type": "code",
   "execution_count": 6,
   "id": "b530f84d",
   "metadata": {},
   "outputs": [
    {
     "name": "stdout",
     "output_type": "stream",
     "text": [
      "Your name: Purvi\n",
      "your age: 38\n",
      "Please enter your email address: purvirawal.work@gmail.com\n"
     ]
    }
   ],
   "source": [
    "# Example of User Inputs\n",
    "name = input(\"Your name: \")\n",
    "age = int(input(\"your age: \"))\n",
    "email = input(\"Please enter your email address: \")"
   ]
  }
 ],
 "metadata": {
  "kernelspec": {
   "display_name": "Python 3 (ipykernel)",
   "language": "python",
   "name": "python3"
  },
  "language_info": {
   "codemirror_mode": {
    "name": "ipython",
    "version": 3
   },
   "file_extension": ".py",
   "mimetype": "text/x-python",
   "name": "python",
   "nbconvert_exporter": "python",
   "pygments_lexer": "ipython3",
   "version": "3.9.7"
  }
 },
 "nbformat": 4,
 "nbformat_minor": 5
}
