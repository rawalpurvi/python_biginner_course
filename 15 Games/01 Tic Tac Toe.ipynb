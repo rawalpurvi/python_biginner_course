{
 "cells": [
  {
   "cell_type": "markdown",
   "id": "65b2357a",
   "metadata": {},
   "source": [
    "# Python Beginner Course by Purvi Rawal\n",
    "\n",
    "## Games\n",
    "\n",
    "### Tic Tac Toe"
   ]
  },
  {
   "cell_type": "code",
   "execution_count": 1,
   "id": "4efab96b",
   "metadata": {},
   "outputs": [],
   "source": [
    "from IPython.display import clear_output\n",
    "\n",
    "#display function\n",
    "def display_game(value_list):\n",
    "    clear_output()\n",
    "    index = 0    \n",
    "    for n in range(0,3):\n",
    "            print(f' {value_list[index]} | {value_list[index+1]} | {value_list[index+2]} ')\n",
    "            if n < 2:\n",
    "                print(\"--- --- ---\")\n",
    "                index += 3"
   ]
  },
  {
   "cell_type": "code",
   "execution_count": 2,
   "id": "e5612cd0",
   "metadata": {},
   "outputs": [],
   "source": [
    "# winner logic\n",
    "def winner_logic(value_list):\n",
    "    if value_list[0] == value_list[1] and value_list[1] == value_list[2]:\n",
    "        return True\n",
    "    elif value_list[3] == value_list[4] and value_list[4] == value_list[5]:\n",
    "        return True\n",
    "    elif value_list[6] == value_list[7] and value_list[7] == value_list[8]:\n",
    "        return True\n",
    "    elif value_list[0] == value_list[3] and value_list[3] == value_list[6]:\n",
    "        return True\n",
    "    elif value_list[1] == value_list[4] and value_list[4] == value_list[7]:\n",
    "        return True\n",
    "    elif value_list[2] == value_list[5] and value_list[5] == value_list[8]:\n",
    "        return True\n",
    "    elif value_list[0] == value_list[4] and value_list[4] == value_list[8]:\n",
    "        return True\n",
    "    elif value_list[2] == value_list[4] and value_list[4] == value_list[6]:\n",
    "        return True\n",
    "    else:\n",
    "        return False"
   ]
  },
  {
   "cell_type": "code",
   "execution_count": 3,
   "id": "c8e38184",
   "metadata": {},
   "outputs": [],
   "source": [
    "# First user can select the choice\n",
    "def select_choice():\n",
    "    check = False\n",
    "    get_choice = ['X','O']\n",
    "    while check == False:\n",
    "        inpt_choice = input(\"Player please select your choice (X , O): \")\n",
    "        if inpt_choice.upper() not in get_choice:\n",
    "            print(\"Please choose correct choice!\")\n",
    "        else:\n",
    "            check = True\n",
    "    return inpt_choice\n",
    "    "
   ]
  },
  {
   "cell_type": "code",
   "execution_count": 4,
   "id": "2f1933a6",
   "metadata": {},
   "outputs": [],
   "source": [
    "# Define position to change the list\n",
    "def df_position(choice):\n",
    "    check = False\n",
    "    check_position = range(1,10)\n",
    "    while check == False:\n",
    "        try:\n",
    "            inpt_position = int(input(f\"Player {choice} plesase give the position in between 1-9: \"))\n",
    "        except:\n",
    "            print(\"Please give a number!\")\n",
    "        else:\n",
    "            if inpt_position not in check_position:\n",
    "                print(\"position is not correct!\")\n",
    "            else:\n",
    "                check = True\n",
    "       \n",
    "    return inpt_position"
   ]
  },
  {
   "cell_type": "code",
   "execution_count": 5,
   "id": "9bfbb6aa",
   "metadata": {},
   "outputs": [],
   "source": [
    "# change the value in current list\n",
    "def change_list(c_list,position,value):\n",
    "    c_list[position-1] = value\n",
    "    return c_list"
   ]
  },
  {
   "cell_type": "code",
   "execution_count": 6,
   "id": "a4d22349",
   "metadata": {},
   "outputs": [],
   "source": [
    "# Do user wants to continue to play or not\n",
    "def check_continue():\n",
    "    check = False\n",
    "    get_choice = ['Y','N']\n",
    "    while check == False:\n",
    "        inpt_choice = input(\"Do you want to continue (Y , N): \")\n",
    "        if inpt_choice.upper() not in get_choice:\n",
    "            print(\"Please choose correct choice!\")\n",
    "        else:\n",
    "            check = True\n",
    "    return (inpt_choice == 'Y') "
   ]
  },
  {
   "cell_type": "code",
   "execution_count": 7,
   "id": "d29734e4",
   "metadata": {},
   "outputs": [],
   "source": [
    "# Play game \n",
    "def play_game():\n",
    "    gameon = True\n",
    "    while gameon == True:\n",
    "        # First display empty\n",
    "        value_list = [i for i in range(1,10)]\n",
    "        \n",
    "        # Choice options\n",
    "        choice_list = ['X' , 'O']\n",
    "        \n",
    "        # Get user's first choice\n",
    "        choice = select_choice()\n",
    "        \n",
    "        # set winner's flag\n",
    "        winner_flag = False\n",
    "        \n",
    "        # display first tic-tac-toe\n",
    "        display_game(value_list)\n",
    "        \n",
    "        # save position in one list\n",
    "        save_position = []\n",
    "\n",
    "        for i in range(0,9):\n",
    "            #Get user's position\n",
    "            correct_position = False\n",
    "\n",
    "            \n",
    "            # check the winner \n",
    "            if i > 2:\n",
    "                if winner_logic(value_list) == True:\n",
    "                    # set winner and print\n",
    "                    winner = \"O\" if choice == \"X\" else \"X\"\n",
    "                    print(f\"Player {winner} is the winner!\")\n",
    "                    break\n",
    "                    \n",
    "                    \n",
    "            \n",
    "            #change list and display\n",
    "            while correct_position == False:\n",
    "                position = df_position(choice)\n",
    "                if position not in save_position:\n",
    "                    save_position.append(position)\n",
    "                    value_list = change_list(value_list,position,choice)\n",
    "                    display_game(value_list)\n",
    "                    # change the next user \n",
    "                    choice = \"O\" if choice == \"X\" else \"X\"\n",
    "                    correct_position = True\n",
    "                else:\n",
    "                    print(\"Position is already selected please select other position\")\n",
    "                          \n",
    "            if i == 8:\n",
    "                print(\"You have a tie!\")\n",
    "                \n",
    "            \n",
    "        gameon = check_continue()"
   ]
  },
  {
   "cell_type": "code",
   "execution_count": 8,
   "id": "5c4657bf",
   "metadata": {},
   "outputs": [
    {
     "name": "stdout",
     "output_type": "stream",
     "text": [
      " x | X | O \n",
      "--- --- ---\n",
      " X | O | X \n",
      "--- --- ---\n",
      " O | 8 | 9 \n",
      "Player O is the winner!\n",
      "Do you want to continue (Y , N): n\n"
     ]
    }
   ],
   "source": [
    "play_game()"
   ]
  }
 ],
 "metadata": {
  "kernelspec": {
   "display_name": "Python 3 (ipykernel)",
   "language": "python",
   "name": "python3"
  },
  "language_info": {
   "codemirror_mode": {
    "name": "ipython",
    "version": 3
   },
   "file_extension": ".py",
   "mimetype": "text/x-python",
   "name": "python",
   "nbconvert_exporter": "python",
   "pygments_lexer": "ipython3",
   "version": "3.9.7"
  }
 },
 "nbformat": 4,
 "nbformat_minor": 5
}
