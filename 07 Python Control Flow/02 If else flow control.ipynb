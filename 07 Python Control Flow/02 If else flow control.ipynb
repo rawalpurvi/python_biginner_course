{
 "cells": [
  {
   "cell_type": "markdown",
   "id": "a493b1d9",
   "metadata": {},
   "source": [
    "# Python Beginner Course by Purvi Rawal\n",
    "\n",
    "## Python Control Flow\n",
    "\n",
    "### If else flow control\n",
    "\n",
    "As we learned in Comparision Operators.\n",
    "\n",
    "* Equals: a == b\n",
    "* Not Equals: a != b\n",
    "* Less than: a < b\n",
    "* Less than or equal to: a <= b\n",
    "* Greater than: a > b\n",
    "* Greater than or equal to: a >= b\n",
    "\n",
    "Logical Operators:\n",
    "\n",
    "* **and**\n",
    "* **or**\n",
    "* **not**\n",
    "\n",
    "Python supports the usual logical conditions from mathematics. These conditions can be used in several ways, most commonly in \"if statements\" and loops.\n",
    "\n",
    "An \"if statement\" is written by using the **if** keyword. The **else** keyword catches anything which isn't caught by the preceding conditions.\n",
    "\n",
    "if some_condition:\n",
    "\n",
    "     print(True)\n",
    "else:\n",
    "\n",
    "    print(False)"
   ]
  },
  {
   "cell_type": "code",
   "execution_count": 1,
   "id": "ef40b643",
   "metadata": {},
   "outputs": [
    {
     "name": "stdout",
     "output_type": "stream",
     "text": [
      "5\n"
     ]
    }
   ],
   "source": [
    "# Simple if else example : print greater number\n",
    "\n",
    "a = 3\n",
    "b = 5\n",
    "if (a > b):\n",
    "    print(a)\n",
    "else:\n",
    "    print(b)"
   ]
  },
  {
   "cell_type": "code",
   "execution_count": 2,
   "id": "1e22444a",
   "metadata": {},
   "outputs": [
    {
     "name": "stdout",
     "output_type": "stream",
     "text": [
      "Please give any number6\n",
      "6 is even number\n"
     ]
    }
   ],
   "source": [
    "# Check number is odd or even\n",
    "\n",
    "a = int(input(\"Please give any number\"))\n",
    "\n",
    "if (a % 2 == 0):\n",
    "    print(f\"{a} is even number\")\n",
    "else:\n",
    "    print(f\"{a} is odd number\")"
   ]
  },
  {
   "cell_type": "code",
   "execution_count": 3,
   "id": "7c3bbcba",
   "metadata": {},
   "outputs": [
    {
     "name": "stdout",
     "output_type": "stream",
     "text": [
      "a is greater than b\n"
     ]
    }
   ],
   "source": [
    "# Short Hand If\n",
    "\n",
    "a = 7\n",
    "b = 5\n",
    "\n",
    "if a > b: print(\"a is greater than b\")"
   ]
  },
  {
   "cell_type": "code",
   "execution_count": 4,
   "id": "fdb21d88",
   "metadata": {},
   "outputs": [
    {
     "name": "stdout",
     "output_type": "stream",
     "text": [
      "10\n"
     ]
    }
   ],
   "source": [
    "# Short Hand If ... Else\n",
    "a = 5\n",
    "b = 10\n",
    "print(a) if a > b else print(b)"
   ]
  },
  {
   "cell_type": "code",
   "execution_count": 5,
   "id": "36c003cc",
   "metadata": {},
   "outputs": [
    {
     "name": "stdout",
     "output_type": "stream",
     "text": [
      "7 is a greater number\n"
     ]
    }
   ],
   "source": [
    "# Logical operator in if statement\n",
    "\n",
    "a = 7\n",
    "b = 5\n",
    "c = 3\n",
    "\n",
    "if (a > b) and (a > c):\n",
    "    print(f\"{a} is a greater number\")"
   ]
  }
 ],
 "metadata": {
  "kernelspec": {
   "display_name": "Python 3 (ipykernel)",
   "language": "python",
   "name": "python3"
  },
  "language_info": {
   "codemirror_mode": {
    "name": "ipython",
    "version": 3
   },
   "file_extension": ".py",
   "mimetype": "text/x-python",
   "name": "python",
   "nbconvert_exporter": "python",
   "pygments_lexer": "ipython3",
   "version": "3.9.7"
  }
 },
 "nbformat": 4,
 "nbformat_minor": 5
}
