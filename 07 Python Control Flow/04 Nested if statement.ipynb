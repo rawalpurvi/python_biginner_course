{
 "cells": [
  {
   "cell_type": "markdown",
   "id": "d90ac6f8",
   "metadata": {},
   "source": [
    "# Python Beginner Course by Purvi Rawal\n",
    "\n",
    "## Python Control Flow\n",
    "\n",
    "### Nested if statement\n",
    "\n",
    "You can have if statements inside if statements, this is called nested if statements.\n",
    "\n",
    "if condition1:\n",
    "\n",
    "    if conditon2:\n",
    "        \n",
    "        print(message)\n",
    "        \n",
    "    elif condition3:\n",
    "    \n",
    "        print(message)\n",
    "        \n",
    "    else:\n",
    "    \n",
    "        print(message)\n",
    "else:\n",
    "    \n",
    "    print(message)"
   ]
  },
  {
   "cell_type": "code",
   "execution_count": 1,
   "id": "7a76b114",
   "metadata": {},
   "outputs": [
    {
     "name": "stdout",
     "output_type": "stream",
     "text": [
      "5 / 10 = 0.5\n"
     ]
    }
   ],
   "source": [
    "# Example of nested if statement\n",
    "\n",
    "a = 5\n",
    "b = 10\n",
    "\n",
    "operation = 'division'\n",
    "\n",
    "if (b != 0):\n",
    "    if operation == 'addition':\n",
    "        result = a + b\n",
    "        print(f\"{a} + {b} = {result}\")\n",
    "    elif operation == 'subtraction':\n",
    "        result = a - b\n",
    "        print(f\"{a} - {b} = {result}\")\n",
    "    elif operation == 'multiplication':\n",
    "        result = a * b\n",
    "        print(f\"{a} * {b} = {result}\")\n",
    "    elif operation == 'division':\n",
    "        result = a / b\n",
    "        print(f\"{a} / {b} = {result}\")\n",
    "    else:\n",
    "        print(\"Unknown operation\")\n",
    "else:\n",
    "    print(\"number b should not be zero\")\n",
    "\n"
   ]
  }
 ],
 "metadata": {
  "kernelspec": {
   "display_name": "Python 3 (ipykernel)",
   "language": "python",
   "name": "python3"
  },
  "language_info": {
   "codemirror_mode": {
    "name": "ipython",
    "version": 3
   },
   "file_extension": ".py",
   "mimetype": "text/x-python",
   "name": "python",
   "nbconvert_exporter": "python",
   "pygments_lexer": "ipython3",
   "version": "3.9.7"
  }
 },
 "nbformat": 4,
 "nbformat_minor": 5
}
