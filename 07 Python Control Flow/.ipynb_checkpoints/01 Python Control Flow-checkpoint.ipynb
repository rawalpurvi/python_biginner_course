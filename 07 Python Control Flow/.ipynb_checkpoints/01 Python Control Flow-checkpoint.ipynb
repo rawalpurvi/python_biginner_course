{
 "cells": [
  {
   "cell_type": "markdown",
   "id": "9482074f",
   "metadata": {},
   "source": [
    "# Python Beginner Course by Purvi Rawal\n",
    "\n",
    "## Python Control Flow\n",
    "\n",
    "Program Control Flow refers to a way in which programmer explicitly specifies the order of execution of program code lines. Normally flow control involves placing some conditions on the program code lines. The most basic form of these conditional statement is the if statement.\n",
    "\n",
    "We are going to learn:\n",
    "\n",
    "* **If else flow control** \n",
    "* **If elif else flow control**\n",
    "* **Nested if statement**\n",
    "\n",
    "Python relies on indentation (whitespace at the beginning of a line) to define scope in the code. Other programming languages often use curly-brackets for this purpose."
   ]
  }
 ],
 "metadata": {
  "kernelspec": {
   "display_name": "Python 3 (ipykernel)",
   "language": "python",
   "name": "python3"
  },
  "language_info": {
   "codemirror_mode": {
    "name": "ipython",
    "version": 3
   },
   "file_extension": ".py",
   "mimetype": "text/x-python",
   "name": "python",
   "nbconvert_exporter": "python",
   "pygments_lexer": "ipython3",
   "version": "3.9.7"
  }
 },
 "nbformat": 4,
 "nbformat_minor": 5
}
