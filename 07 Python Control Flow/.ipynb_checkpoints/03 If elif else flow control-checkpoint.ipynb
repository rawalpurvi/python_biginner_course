{
 "cells": [
  {
   "cell_type": "markdown",
   "id": "4c0e5c65",
   "metadata": {},
   "source": [
    "# Python Beginner Course by Purvi Rawal\n",
    "\n",
    "## Python Control Flow\n",
    "\n",
    "### If elif else flow control\n",
    "\n",
    "In if else control flow we saw the example of which one is the greater number. In that example we did not check if the numbers are equal. So in that kind of senario elif statement is uesful. The elif keyword is Python's way of saying \"if the previous conditions were not true, then try this condition\".\n",
    "\n",
    "if condition1:\n",
    "\n",
    "    print(message)\n",
    "elif condition2:\n",
    "\n",
    "    print(message)\n",
    "elif condition3:\n",
    "    \n",
    "    print(message)\n",
    "else:\n",
    "\n",
    "    print(message)"
   ]
  },
  {
   "cell_type": "code",
   "execution_count": 1,
   "id": "7c720c12",
   "metadata": {},
   "outputs": [
    {
     "name": "stdout",
     "output_type": "stream",
     "text": [
      "9 is a greater number\n"
     ]
    }
   ],
   "source": [
    "# Example of if elif else control flow\n",
    "\n",
    "a = 5\n",
    "b = 9\n",
    "\n",
    "if (a > b):\n",
    "    print(f\"{a} is a greater number\")\n",
    "elif (a == b):\n",
    "    print(\"Both numbers are equal\")\n",
    "else:\n",
    "    print(f\"{b} is a greater number\")"
   ]
  }
 ],
 "metadata": {
  "kernelspec": {
   "display_name": "Python 3 (ipykernel)",
   "language": "python",
   "name": "python3"
  },
  "language_info": {
   "codemirror_mode": {
    "name": "ipython",
    "version": 3
   },
   "file_extension": ".py",
   "mimetype": "text/x-python",
   "name": "python",
   "nbconvert_exporter": "python",
   "pygments_lexer": "ipython3",
   "version": "3.9.7"
  }
 },
 "nbformat": 4,
 "nbformat_minor": 5
}
