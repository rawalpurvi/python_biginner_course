{
 "cells": [
  {
   "cell_type": "markdown",
   "id": "0d5ec64b",
   "metadata": {},
   "source": [
    "# Python Beginner Course by Purvi Rawal\n",
    "\n",
    "## Object Oriented Programming - II\n",
    "\n",
    "### Creating class in Python\n",
    "\n",
    "We already learn how to define a class and create attribute and method.\n",
    "\n",
    "\n",
    "### Class attribute\n",
    "\n",
    "A class attribute is a Python variable that belongs to a class rather than a particular object. It's shared between all the objects of this class and is defined outside the constructor function, __init__(self,...) , of the class.\n",
    "\n",
    "### Data attribute\n",
    "\n",
    "Python class attributes are variables of a class that are shared between all of its instances. They differ from instance attributes in that instance attributes are owned by one specific instance of the class and are not shared between instances. \n",
    "\n",
    "Your object may be defined by more than one data attribute. To tell Python that you want to define a data attribute of the object, you use a variable named self with a dot after it."
   ]
  },
  {
   "cell_type": "code",
   "execution_count": 1,
   "id": "728f68c8",
   "metadata": {},
   "outputs": [],
   "source": [
    "# Example of class\n",
    "\n",
    "class Circle:\n",
    "    \n",
    "    pi = 3.14 # Class attribute\n",
    "    \n",
    "    def __init__(self,radius):\n",
    "        \n",
    "        self.radius = radius # Data attribute\n",
    "        self.area = Circle.pi * self.radius * self.radius # Data attribute\n",
    "        \n",
    "    def __str__(self):\n",
    "        \n",
    "        return (f\"The area of a circle is {self.area}\")\n",
    "    \n",
    "    def circumference(self):\n",
    "        \n",
    "        self.c = 2 * Circle.pi *  self.radius # Method attribute\n",
    "        \n",
    "        return self.c\n",
    "    "
   ]
  },
  {
   "cell_type": "code",
   "execution_count": 2,
   "id": "dc6280a2",
   "metadata": {},
   "outputs": [
    {
     "name": "stdout",
     "output_type": "stream",
     "text": [
      "The area of a circle is 314.0\n"
     ]
    }
   ],
   "source": [
    "# Create an instance of the class\n",
    "c1 = Circle(10)\n",
    "\n",
    "# Print instance\n",
    "print(c1)"
   ]
  },
  {
   "cell_type": "code",
   "execution_count": 3,
   "id": "92f0fc28",
   "metadata": {},
   "outputs": [
    {
     "data": {
      "text/plain": [
       "62.800000000000004"
      ]
     },
     "execution_count": 3,
     "metadata": {},
     "output_type": "execute_result"
    }
   ],
   "source": [
    "# Call method of the class\n",
    "c1.circumference()"
   ]
  },
  {
   "cell_type": "code",
   "execution_count": 4,
   "id": "0dd56319",
   "metadata": {},
   "outputs": [
    {
     "data": {
      "text/plain": [
       "10"
      ]
     },
     "execution_count": 4,
     "metadata": {},
     "output_type": "execute_result"
    }
   ],
   "source": [
    "# Call instance attribute\n",
    "\n",
    "c1.radius"
   ]
  },
  {
   "cell_type": "code",
   "execution_count": 5,
   "id": "5307ee6a",
   "metadata": {},
   "outputs": [
    {
     "data": {
      "text/plain": [
       "314.0"
      ]
     },
     "execution_count": 5,
     "metadata": {},
     "output_type": "execute_result"
    }
   ],
   "source": [
    "# Call instance attribute\n",
    "\n",
    "c1.area"
   ]
  },
  {
   "cell_type": "code",
   "execution_count": 6,
   "id": "715c08b1",
   "metadata": {},
   "outputs": [
    {
     "data": {
      "text/plain": [
       "62.800000000000004"
      ]
     },
     "execution_count": 6,
     "metadata": {},
     "output_type": "execute_result"
    }
   ],
   "source": [
    "# Call method attribute of class\n",
    "\n",
    "c1.c"
   ]
  },
  {
   "cell_type": "code",
   "execution_count": 7,
   "id": "e491931a",
   "metadata": {},
   "outputs": [
    {
     "data": {
      "text/plain": [
       "3.14"
      ]
     },
     "execution_count": 7,
     "metadata": {},
     "output_type": "execute_result"
    }
   ],
   "source": [
    "# Call class attribute of class\n",
    "\n",
    "c1.pi"
   ]
  }
 ],
 "metadata": {
  "kernelspec": {
   "display_name": "Python 3 (ipykernel)",
   "language": "python",
   "name": "python3"
  },
  "language_info": {
   "codemirror_mode": {
    "name": "ipython",
    "version": 3
   },
   "file_extension": ".py",
   "mimetype": "text/x-python",
   "name": "python",
   "nbconvert_exporter": "python",
   "pygments_lexer": "ipython3",
   "version": "3.10.9"
  }
 },
 "nbformat": 4,
 "nbformat_minor": 5
}
