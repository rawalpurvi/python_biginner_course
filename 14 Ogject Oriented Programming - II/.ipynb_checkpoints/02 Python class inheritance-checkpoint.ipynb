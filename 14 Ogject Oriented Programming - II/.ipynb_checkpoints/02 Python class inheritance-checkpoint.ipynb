{
 "cells": [
  {
   "cell_type": "markdown",
   "id": "53ed4221",
   "metadata": {},
   "source": [
    "# Python Beginner Course by Purvi Rawal\n",
    "\n",
    "## Object oriented programming - II\n",
    "\n",
    "### Python class inheritance\n",
    "\n",
    "**Python Inheritance :** Inheritance allows us to define a class that inherits all the methods and properties from another class.\n",
    "\n",
    "* **Parent class :** is the class being inherited from, also called base class.\n",
    "\n",
    "* **Child class :** is the class that inherits from another class, also called derived class.\n",
    "\n",
    "#### Create a Parent Class\n",
    "\n",
    "Any class can be a parent class, so the syntax is the same as creating any other class.\n",
    "\n"
   ]
  },
  {
   "cell_type": "code",
   "execution_count": 1,
   "id": "d47d2a1b",
   "metadata": {},
   "outputs": [],
   "source": [
    "# Create a parent class\n",
    "\n",
    "class Person:\n",
    "    \n",
    "    def __init__(self,first_name,last_name):\n",
    "        \n",
    "        self.first_name = first_name\n",
    "        self.last_name = last_name\n",
    "    \n",
    "    def display_name(self):\n",
    "        \n",
    "        print(f\"My name is {self.first_name} {self.last_name}\")"
   ]
  },
  {
   "cell_type": "code",
   "execution_count": 2,
   "id": "12e14fa7",
   "metadata": {},
   "outputs": [
    {
     "name": "stdout",
     "output_type": "stream",
     "text": [
      "My name is Purvi Rawal\n"
     ]
    }
   ],
   "source": [
    "p1 = Person(\"Purvi\",\"Rawal\")\n",
    "p1.display_name()"
   ]
  },
  {
   "cell_type": "markdown",
   "id": "c4036172",
   "metadata": {},
   "source": [
    "#### Create a Child Class\n",
    "\n",
    "To create a class that inherits the functionality from another class, send the parent class as a parameter when creating the child class."
   ]
  },
  {
   "cell_type": "code",
   "execution_count": 3,
   "id": "5fb70b56",
   "metadata": {},
   "outputs": [],
   "source": [
    "# Create a child class\n",
    "\n",
    "class Student(Person):\n",
    "    pass\n"
   ]
  },
  {
   "cell_type": "code",
   "execution_count": 4,
   "id": "7b09c491",
   "metadata": {},
   "outputs": [
    {
     "name": "stdout",
     "output_type": "stream",
     "text": [
      "My name is John Malone\n"
     ]
    }
   ],
   "source": [
    "s1 = Student(\"John\", \"Malone\")\n",
    "s1.display_name()"
   ]
  },
  {
   "cell_type": "markdown",
   "id": "b4804560",
   "metadata": {},
   "source": [
    "#### Add the __init__() Function and Method\n",
    "So far we have created a child class that inherits the properties and methods from its parent. We want to add the __init__() function to the child class (instead of the pass keyword). When you add the __init__() function, the child class will no longer inherit the parent's __init__() function.\n",
    "\n",
    "* **Note:** The __init__() function is called automatically every time the class is being used to create a new object. The child's __init__() function overrides the inheritance of the parent's __init__() function.\n",
    "\n",
    "To keep the inheritance of the parent's __init__() function, add a call to the parent's __init__() function:\n",
    "\n",
    "\n",
    "**Method :** We can define same method name and it overrides the parent's method and different method as well."
   ]
  },
  {
   "cell_type": "code",
   "execution_count": 5,
   "id": "364f4bb6",
   "metadata": {},
   "outputs": [],
   "source": [
    "# Add __init__() to child class\n",
    "\n",
    "class Student(Person):\n",
    "    \n",
    "    def __init__(self,first_name,last_name,graduation_year):\n",
    "        \n",
    "        Person.__init__(self,first_name,last_name)\n",
    "        \n",
    "        self.graduation_year = graduation_year\n",
    "        \n",
    "    \n",
    "    def display_name(self):\n",
    "        \n",
    "        print(f\"I am {self.first_name} {self.last_name} and graduatation year is {self.graduation_year}\")\n",
    "    \n",
    "    def final_gpa(self,gpa_score):\n",
    "        \n",
    "        print(f\"{self.first_name}'s final GPA is {gpa_score}\")"
   ]
  },
  {
   "cell_type": "code",
   "execution_count": 6,
   "id": "4d9a86b6",
   "metadata": {},
   "outputs": [
    {
     "name": "stdout",
     "output_type": "stream",
     "text": [
      "I am Sammy Roi and graduatation year is 2019\n"
     ]
    }
   ],
   "source": [
    "# Same method call\n",
    "\n",
    "s1 = Student(\"Sammy\" , \"Roi\", 2019)\n",
    "s1.display_name()"
   ]
  },
  {
   "cell_type": "code",
   "execution_count": 7,
   "id": "7d4928b3",
   "metadata": {},
   "outputs": [
    {
     "name": "stdout",
     "output_type": "stream",
     "text": [
      "Sammy's final GPA is 4.0\n"
     ]
    }
   ],
   "source": [
    "# Different method call\n",
    "\n",
    "s1.final_gpa(\"4.0\")"
   ]
  },
  {
   "cell_type": "markdown",
   "id": "91c151aa",
   "metadata": {},
   "source": [
    "#### Super() Function\n",
    "\n",
    "Python also has a super() function that will make the child class inherit all the methods and properties from its parent. By using the super() function, you do not have to use the name of the parent element, it will automatically inherit the methods and properties from its parent."
   ]
  },
  {
   "cell_type": "code",
   "execution_count": 8,
   "id": "20ca1a06",
   "metadata": {},
   "outputs": [],
   "source": [
    "# Example of super function\n",
    "\n",
    "class Employee(Person):\n",
    "    \n",
    "    def __init__(self,first_name,last_name,salary):\n",
    "        \n",
    "        super().__init__(first_name,last_name)\n",
    "            \n",
    "        self.salary = salary\n",
    "            \n",
    "    def display_salary(self):\n",
    "        \n",
    "        print(f\"Employee : {self.first_name} {self.last_name}'s salary is {self.salary}\")"
   ]
  },
  {
   "cell_type": "code",
   "execution_count": 9,
   "id": "bbb93ac8",
   "metadata": {},
   "outputs": [
    {
     "name": "stdout",
     "output_type": "stream",
     "text": [
      "Employee : Purvi Rawal's salary is 25000\n"
     ]
    }
   ],
   "source": [
    "e2 = Employee(\"Purvi\",\"Rawal\",25000)\n",
    "\n",
    "e2.display_salary()"
   ]
  },
  {
   "cell_type": "code",
   "execution_count": 10,
   "id": "c24354e2",
   "metadata": {},
   "outputs": [
    {
     "name": "stdout",
     "output_type": "stream",
     "text": [
      "My name is Purvi Rawal\n"
     ]
    }
   ],
   "source": [
    "# Call parent method\n",
    "\n",
    "e2.display_name()"
   ]
  }
 ],
 "metadata": {
  "kernelspec": {
   "display_name": "Python 3 (ipykernel)",
   "language": "python",
   "name": "python3"
  },
  "language_info": {
   "codemirror_mode": {
    "name": "ipython",
    "version": 3
   },
   "file_extension": ".py",
   "mimetype": "text/x-python",
   "name": "python",
   "nbconvert_exporter": "python",
   "pygments_lexer": "ipython3",
   "version": "3.10.9"
  }
 },
 "nbformat": 4,
 "nbformat_minor": 5
}
