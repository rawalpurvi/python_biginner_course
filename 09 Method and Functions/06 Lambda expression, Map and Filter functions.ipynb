{
 "cells": [
  {
   "cell_type": "markdown",
   "id": "36f9756c",
   "metadata": {},
   "source": [
    "# Python Beginner Course by Purvi Rawal\n",
    "\n",
    "## Method and Functions\n",
    "\n",
    "### Lambda expression, Map and Filter functions\n",
    "\n",
    "**Map :** The map() function executes a specified function for each item in an iterable. The item is sent to the function as a parameter.\n",
    "\n",
    "*Syntex* : map(function, iterable)\n",
    "\n",
    "* function : Required. The function to execute for each item\n",
    "* iterable : Required. A sequence, collection or an iterator object. You can send as many iterables as you like, just make sure the function has one parameter for each iterable.\n",
    "\n",
    "**Filter :** The filter() function returns an iterator where the items are filtered through a function to test if the item is accepted or not.\n",
    "\n",
    "*Syntex* : filter(function, iterable)\n",
    "\n",
    "* function : A Function to be run for each item in the iterable\n",
    "* iterable : The iterable to be filtered\n",
    "\n",
    "\n",
    "**Lambda expression :** A lambda function is a small anonymous function. A lambda function can take any number of arguments, but can only have one expression.\n",
    "\n",
    "*Syntex* : lambda arguments : expression\n",
    "\n",
    "*Why Use Lambda Functions?* : The power of lambda is better shown when you use them as an anonymous function inside another function. Say you have a function definition that takes one argument, and that argument will be multiplied with an unknown number:"
   ]
  },
  {
   "cell_type": "code",
   "execution_count": 15,
   "id": "8171fd91",
   "metadata": {},
   "outputs": [
    {
     "data": {
      "text/plain": [
       "<map at 0x1074fadc0>"
      ]
     },
     "execution_count": 15,
     "metadata": {},
     "output_type": "execute_result"
    }
   ],
   "source": [
    "# Exmaple of map function\n",
    "\n",
    "num_list = [1,2,3,4,5,6]\n",
    "\n",
    "def square(nums):\n",
    "    return nums ** 2\n",
    "\n",
    "map(square, num_list)"
   ]
  },
  {
   "cell_type": "code",
   "execution_count": 16,
   "id": "a4f3ff60",
   "metadata": {},
   "outputs": [
    {
     "data": {
      "text/plain": [
       "[1, 4, 9, 16, 25, 36]"
      ]
     },
     "execution_count": 16,
     "metadata": {},
     "output_type": "execute_result"
    }
   ],
   "source": [
    "# If you want to get the values use for loop or covert into the list\n",
    "\n",
    "list(map(square, num_list))"
   ]
  },
  {
   "cell_type": "code",
   "execution_count": 17,
   "id": "27ec573d",
   "metadata": {},
   "outputs": [
    {
     "data": {
      "text/plain": [
       "<filter at 0x1074fa250>"
      ]
     },
     "execution_count": 17,
     "metadata": {},
     "output_type": "execute_result"
    }
   ],
   "source": [
    "# Example of filter function\n",
    "\n",
    "nums = [12,34,56,78,90]\n",
    "\n",
    "def check_number(num):\n",
    "\n",
    "    return True if num > 20 else False\n",
    "\n",
    "filter(check_number, nums)"
   ]
  },
  {
   "cell_type": "code",
   "execution_count": 18,
   "id": "49a6ac17",
   "metadata": {},
   "outputs": [
    {
     "name": "stdout",
     "output_type": "stream",
     "text": [
      "34\n",
      "56\n",
      "78\n",
      "90\n"
     ]
    }
   ],
   "source": [
    "# If you want to get the values use for loop or covert into the list\n",
    "\n",
    "for i in filter(check_number, nums):\n",
    "    print(i)"
   ]
  },
  {
   "cell_type": "code",
   "execution_count": 20,
   "id": "d22e8668",
   "metadata": {},
   "outputs": [
    {
     "data": {
      "text/plain": [
       "4"
      ]
     },
     "execution_count": 20,
     "metadata": {},
     "output_type": "execute_result"
    }
   ],
   "source": [
    "# Lamda expression\n",
    "\n",
    "square = lambda num : num**2\n",
    "\n",
    "square(2)"
   ]
  },
  {
   "cell_type": "code",
   "execution_count": 21,
   "id": "0ad092f6",
   "metadata": {},
   "outputs": [
    {
     "data": {
      "text/plain": [
       "[4, 16, 25, 36]"
      ]
     },
     "execution_count": 21,
     "metadata": {},
     "output_type": "execute_result"
    }
   ],
   "source": [
    "# Lambda expression with map function\n",
    "\n",
    "nums = [2,4,5,6]\n",
    "\n",
    "list(map(square,nums))"
   ]
  },
  {
   "cell_type": "code",
   "execution_count": 22,
   "id": "ce41747b",
   "metadata": {},
   "outputs": [
    {
     "name": "stdout",
     "output_type": "stream",
     "text": [
      "2\n",
      "4\n"
     ]
    }
   ],
   "source": [
    "# Lambda expression with filter function\n",
    "\n",
    "num_list = [1,2,4,5,7,9]\n",
    "\n",
    "even_number = lambda n : n%2 == 0\n",
    "\n",
    "for i in filter(even_number,num_list):\n",
    "    print(i)"
   ]
  }
 ],
 "metadata": {
  "kernelspec": {
   "display_name": "Python 3 (ipykernel)",
   "language": "python",
   "name": "python3"
  },
  "language_info": {
   "codemirror_mode": {
    "name": "ipython",
    "version": 3
   },
   "file_extension": ".py",
   "mimetype": "text/x-python",
   "name": "python",
   "nbconvert_exporter": "python",
   "pygments_lexer": "ipython3",
   "version": "3.9.7"
  }
 },
 "nbformat": 4,
 "nbformat_minor": 5
}
