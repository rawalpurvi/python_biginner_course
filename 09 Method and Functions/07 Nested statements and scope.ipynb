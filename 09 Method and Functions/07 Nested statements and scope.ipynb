{
 "cells": [
  {
   "cell_type": "markdown",
   "id": "f2f22c6c",
   "metadata": {},
   "source": [
    "# Python Beginner Couser by Purvi Rawal\n",
    "\n",
    "## Method and Functions\n",
    "\n",
    "### Nested statements and scope\n",
    "\n",
    "Scope verifies which variable can be 'Seen'. The scope defines the set of rules which tell us how and where a variable can be searched. For that we need to understant **The LEGB rule**.\n",
    "\n",
    "**The LEGB Rule :** The rule is a kind of name lookup procedure, which determines the order in which Python looks up names. For example, if we access a name, then Python will look that name up sequentially in the local, enclosing, global, and built-in scope. It is the code block or body of any Python function or lambda expression.\n",
    "\n",
    "* **L : Local -** Names assign in any way within a function (def or lambda) and not assign as a global\n",
    "\n",
    "* **E : Enclosing Function locals -** Names in the local scopes of any and all enclosing fucntions (def and lambda), from inner to outer.\n",
    "\n",
    "* **G : Global -** Names assign top of the module file or in def function assign as global within the file.\n",
    "\n",
    "* **B : Buit-in(Python) -** Names pre-assign as a buit-in names module: open, range, filter etc..\n",
    "\n",
    "Let's see some examples to understand the scope."
   ]
  },
  {
   "cell_type": "code",
   "execution_count": 1,
   "id": "944484d3",
   "metadata": {},
   "outputs": [],
   "source": [
    "# Example of global variable\n",
    "\n",
    "name = 'Purvi' # Global variable\n",
    "\n",
    "def print_name(name):\n",
    "    \n",
    "    name = 'Ashley' # Local variable\n",
    "    \n",
    "    print(name)"
   ]
  },
  {
   "cell_type": "code",
   "execution_count": 2,
   "id": "51c84ec2",
   "metadata": {},
   "outputs": [
    {
     "name": "stdout",
     "output_type": "stream",
     "text": [
      "Purvi\n"
     ]
    }
   ],
   "source": [
    "# Access Global variable\n",
    "\n",
    "print(name)"
   ]
  },
  {
   "cell_type": "code",
   "execution_count": 3,
   "id": "8246a48f",
   "metadata": {},
   "outputs": [
    {
     "name": "stdout",
     "output_type": "stream",
     "text": [
      "Ashley\n"
     ]
    }
   ],
   "source": [
    "# Access local variable\n",
    "\n",
    "print_name(name)"
   ]
  },
  {
   "cell_type": "code",
   "execution_count": 4,
   "id": "132b8d38",
   "metadata": {},
   "outputs": [],
   "source": [
    "# Example to understand scope in nested statements\n",
    "\n",
    "tax_rate = 7.25 # Global variable\n",
    "\n",
    "def get_price(price):\n",
    "    \n",
    "    def calculate_tax():\n",
    "        \n",
    "        result = (tax_rate / 100) * price\n",
    "        print(result) # tax_rate Global and price Local variable\n",
    "        \n",
    "    calculate_tax()\n",
    "    "
   ]
  },
  {
   "cell_type": "code",
   "execution_count": 5,
   "id": "06db0dfd",
   "metadata": {},
   "outputs": [
    {
     "name": "stdout",
     "output_type": "stream",
     "text": [
      "7.249999999999999\n"
     ]
    }
   ],
   "source": [
    "# Get result from calculate tax function\n",
    "\n",
    "get_price(100)"
   ]
  },
  {
   "cell_type": "code",
   "execution_count": 6,
   "id": "9751d4ad",
   "metadata": {},
   "outputs": [
    {
     "name": "stdout",
     "output_type": "stream",
     "text": [
      "Value of global variable x is 50\n",
      "I have changed global variable x to 30 in the my_func\n"
     ]
    }
   ],
   "source": [
    "# Change global variable inside the function by declare global variable\n",
    "\n",
    "x = 50\n",
    "\n",
    "def my_func():\n",
    "    \n",
    "    global x # It is not safe to change global variable value inside of the function\n",
    "    \n",
    "    print(f\"Value of global variable x is {x}\")\n",
    "    \n",
    "    x = 30\n",
    "    \n",
    "    print(f\"I have changed global variable x to {x} in the my_func\")\n",
    "    \n",
    "    \n",
    "\n",
    "my_func()"
   ]
  },
  {
   "cell_type": "code",
   "execution_count": 7,
   "id": "f15e5ad6",
   "metadata": {},
   "outputs": [],
   "source": [
    "# Change global variable \n",
    "x = 50\n",
    "\n",
    "def my_func(x):\n",
    "        \n",
    "    x = 'New value of global variable x'\n",
    "    return x\n",
    "    "
   ]
  },
  {
   "cell_type": "code",
   "execution_count": 8,
   "id": "efbb6810",
   "metadata": {},
   "outputs": [
    {
     "name": "stdout",
     "output_type": "stream",
     "text": [
      "50\n"
     ]
    }
   ],
   "source": [
    "# Access Global variable\n",
    "\n",
    "print(x)"
   ]
  },
  {
   "cell_type": "code",
   "execution_count": 9,
   "id": "bb349ceb",
   "metadata": {},
   "outputs": [
    {
     "name": "stdout",
     "output_type": "stream",
     "text": [
      "New value of global variable x\n"
     ]
    }
   ],
   "source": [
    "# Change global variable value\n",
    "\n",
    "x = my_func(x)\n",
    "print(x)"
   ]
  }
 ],
 "metadata": {
  "kernelspec": {
   "display_name": "Python 3 (ipykernel)",
   "language": "python",
   "name": "python3"
  },
  "language_info": {
   "codemirror_mode": {
    "name": "ipython",
    "version": 3
   },
   "file_extension": ".py",
   "mimetype": "text/x-python",
   "name": "python",
   "nbconvert_exporter": "python",
   "pygments_lexer": "ipython3",
   "version": "3.9.7"
  }
 },
 "nbformat": 4,
 "nbformat_minor": 5
}
