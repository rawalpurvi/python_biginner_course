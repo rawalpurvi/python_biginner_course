{
 "cells": [
  {
   "cell_type": "markdown",
   "id": "468c1633",
   "metadata": {},
   "source": [
    "# Python Beginner Course by Purvi Rawal\n",
    "\n",
    "## Method and Functions\n",
    "\n",
    "### *args and **kwargs in Python\n",
    "\n",
    "* Arbitrary Arguments, \"*args\"  : If you do not know how many arguments that will be passed into your function, add a * before the parameter name in the function definition. This way the function will receive a tuple of arguments, and can access the items accordingly\n",
    "\n",
    "* Arbitrary Keyword Arguments, **kwargs : If you do not know how many keyword arguments that will be passed into your function, add two asterisk: ** before the parameter name in the function definition. This way the function will receive a dictionary of arguments, and can access the items accordingly"
   ]
  },
  {
   "cell_type": "code",
   "execution_count": 1,
   "id": "3c1f33b2",
   "metadata": {},
   "outputs": [
    {
     "name": "stdout",
     "output_type": "stream",
     "text": [
      "7\n"
     ]
    }
   ],
   "source": [
    "# Addition of 3 numbers\n",
    "\n",
    "def sum_of_num(num1,num2):\n",
    "    \n",
    "    return sum((num1,num2))\n",
    "               \n",
    "\n",
    "result = sum_of_num(2,5)\n",
    "print(result)"
   ]
  },
  {
   "cell_type": "code",
   "execution_count": 2,
   "id": "0f34c248",
   "metadata": {},
   "outputs": [
    {
     "name": "stdout",
     "output_type": "stream",
     "text": [
      "(2, 3, 4, 5, 6, 7)\n",
      "27\n"
     ]
    }
   ],
   "source": [
    "# If you don't know how many numbers you want to add use *args\n",
    "\n",
    "def sum_of_nums(*args):\n",
    "    \n",
    "    print(args) # tuple of all the numbers\n",
    "    return sum(args)\n",
    "\n",
    "result = sum_of_nums(2,3,4,5,6,7)\n",
    "print(result)"
   ]
  },
  {
   "cell_type": "code",
   "execution_count": 3,
   "id": "dba5fc6a",
   "metadata": {},
   "outputs": [
    {
     "name": "stdout",
     "output_type": "stream",
     "text": [
      "Student name is : Purvi and Master in Computer Science\n"
     ]
    }
   ],
   "source": [
    "# print number of students with their major\n",
    "\n",
    "def student_info(name,master):\n",
    "    \n",
    "    print(\"Student name is : {} and Master in {}\".format(name,master))\n",
    "    \n",
    "student_info(\"Purvi\",\"Computer Science\")"
   ]
  },
  {
   "cell_type": "code",
   "execution_count": 4,
   "id": "714b0aff",
   "metadata": {},
   "outputs": [
    {
     "name": "stdout",
     "output_type": "stream",
     "text": [
      "{'Purvi': 'Computer Science', 'Sam': 'Economics', 'Andy': 'Political science'}\n",
      "Student name is : Purvi and Master in Computer Science\n",
      "Student name is : Sam and Master in Economics\n",
      "Student name is : Andy and Master in Political science\n"
     ]
    }
   ],
   "source": [
    "# If you want to print information for more students we can use **kwargs\n",
    "\n",
    "def students_info(**kwargs):\n",
    "    \n",
    "    print(kwargs)\n",
    "    for name, master in kwargs.items():\n",
    "        print(\"Student name is : {} and Master in {}\".format(name,master))\n",
    "    \n",
    "students_info(Purvi='Computer Science',Sam='Economics',Andy='Political science')"
   ]
  },
  {
   "cell_type": "code",
   "execution_count": 5,
   "id": "8be5cc8d",
   "metadata": {},
   "outputs": [
    {
     "name": "stdout",
     "output_type": "stream",
     "text": [
      "Student number is : 20013 and Name is Purvi\n"
     ]
    }
   ],
   "source": [
    "# Use *args and **kwargs together\n",
    "\n",
    "def my_function(*args,**kwargs):\n",
    "    \n",
    "    print(\"Student number is : {} and Name is {}\".format(args[0],kwargs['name']))\n",
    "    \n",
    "\n",
    "my_function(20013,20014,name='Purvi',last_name='Rawal') # first all the args and then keyword arguments\n",
    "    \n",
    "    "
   ]
  }
 ],
 "metadata": {
  "kernelspec": {
   "display_name": "Python 3 (ipykernel)",
   "language": "python",
   "name": "python3"
  },
  "language_info": {
   "codemirror_mode": {
    "name": "ipython",
    "version": 3
   },
   "file_extension": ".py",
   "mimetype": "text/x-python",
   "name": "python",
   "nbconvert_exporter": "python",
   "pygments_lexer": "ipython3",
   "version": "3.9.7"
  }
 },
 "nbformat": 4,
 "nbformat_minor": 5
}
