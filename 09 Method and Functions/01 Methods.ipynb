{
 "cells": [
  {
   "cell_type": "markdown",
   "id": "7b5e41cb",
   "metadata": {},
   "source": [
    "# Python Beginner Course by Purvi Rawal\n",
    "\n",
    "## Method and Functions\n",
    "\n",
    "### Methods\n",
    "\n",
    "A method is a function that “belongs to” an object. In Python, the term method is not unique to class instances: other object types can have methods as well. For example, list objects have methods called append, insert, pop, sort, and so on.\n",
    "\n",
    "Buit-in objects in python have variety of methods you can use. \n",
    "\n",
    "There is a documetnation *https://docs.python.org/3.10/tutorial/introduction.html#* to find different kind of methods and how to get information about them.\n",
    "\n",
    "You can find methods for various built-in objects.\n",
    "\n",
    "* **Python String Methods**\n",
    "* **Python List Methods**\n",
    "* **Python Dictionary Methods**\n",
    "* **Python Tuple Methods**\n",
    "* **Python Set Methods**\n",
    "* **Python File Methods**"
   ]
  }
 ],
 "metadata": {
  "kernelspec": {
   "display_name": "Python 3 (ipykernel)",
   "language": "python",
   "name": "python3"
  },
  "language_info": {
   "codemirror_mode": {
    "name": "ipython",
    "version": 3
   },
   "file_extension": ".py",
   "mimetype": "text/x-python",
   "name": "python",
   "nbconvert_exporter": "python",
   "pygments_lexer": "ipython3",
   "version": "3.9.7"
  }
 },
 "nbformat": 4,
 "nbformat_minor": 5
}
