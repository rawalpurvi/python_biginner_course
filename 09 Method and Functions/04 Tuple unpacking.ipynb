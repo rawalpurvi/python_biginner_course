{
 "cells": [
  {
   "cell_type": "markdown",
   "id": "74593005",
   "metadata": {},
   "source": [
    "# Python Beginner Course by Purvi Rawal\n",
    "\n",
    "## Method and Functions\n",
    "\n",
    "### Tuple unpacking\n",
    "\n",
    "\n",
    "Unpacking tuples assigns the objects in a tuple to multiple variables. tuple1 = (obj1, obj2, ..., objN). During unpacking, the number of variables must be equal to the number of objects in the tuples. If this is not the case, a ValueError is raised. Let's see the examples."
   ]
  },
  {
   "cell_type": "code",
   "execution_count": 1,
   "id": "c561bdae",
   "metadata": {},
   "outputs": [
    {
     "name": "stdout",
     "output_type": "stream",
     "text": [
      "10\n",
      "3\n"
     ]
    }
   ],
   "source": [
    "# Simple example of tuple unpacking\n",
    "\n",
    "tuple1 = (10,3)\n",
    "\n",
    "a, b = tuple1\n",
    "print(a)\n",
    "print(b)"
   ]
  },
  {
   "cell_type": "code",
   "execution_count": 2,
   "id": "eccbc4c7",
   "metadata": {},
   "outputs": [
    {
     "name": "stdout",
     "output_type": "stream",
     "text": [
      "October\n",
      "Halloween\n",
      "November\n",
      "Thanks Giving\n",
      "December\n",
      "Christmas\n"
     ]
    }
   ],
   "source": [
    "# Tuple unpacking with for loop\n",
    "\n",
    "festival_list = [('October','Halloween'),('November','Thanks Giving'), ('December','Christmas')]\n",
    "\n",
    "for month, festival in festival_list:\n",
    "    print(month)\n",
    "    print(festival)"
   ]
  },
  {
   "cell_type": "code",
   "execution_count": 3,
   "id": "ee327279",
   "metadata": {},
   "outputs": [
    {
     "ename": "ValueError",
     "evalue": "not enough values to unpack (expected 3, got 2)",
     "output_type": "error",
     "traceback": [
      "\u001b[0;31m---------------------------------------------------------------------------\u001b[0m",
      "\u001b[0;31mValueError\u001b[0m                                Traceback (most recent call last)",
      "Cell \u001b[0;32mIn[3], line 21\u001b[0m\n\u001b[1;32m     16\u001b[0m             \u001b[38;5;28;01mpass\u001b[39;00m\n\u001b[1;32m     18\u001b[0m     \u001b[38;5;28;01mreturn\u001b[39;00m(highest_score_name,compare_score)\n\u001b[0;32m---> 21\u001b[0m name, score, school \u001b[38;5;241m=\u001b[39m highest_score(math_score) \u001b[38;5;66;03m# the number of variables must be equal to the number of objects in the tuples\u001b[39;00m\n",
      "\u001b[0;31mValueError\u001b[0m: not enough values to unpack (expected 3, got 2)"
     ]
    }
   ],
   "source": [
    "# Check highest score in math : Return tuple \n",
    "\n",
    "math_score = [('Sam', 97), ('Michael', 83), ('Jesse',99)]\n",
    "\n",
    "def highest_score(math_score):\n",
    "    \n",
    "    compare_score = 0\n",
    "    highest_score_name = ''\n",
    "    \n",
    "    for name, score in math_score:\n",
    "        \n",
    "        if score > compare_score:\n",
    "            compare_score = score\n",
    "            highest_score_name = name\n",
    "        else:          \n",
    "            pass\n",
    "        \n",
    "    return(highest_score_name,compare_score)\n",
    "\n",
    "\n",
    "name, score, school = highest_score(math_score) # the number of variables must be equal to the number of objects in the tuples\n",
    "\n"
   ]
  },
  {
   "cell_type": "code",
   "execution_count": 4,
   "id": "7dfd0ff7",
   "metadata": {},
   "outputs": [
    {
     "name": "stdout",
     "output_type": "stream",
     "text": [
      "Jesse 99\n"
     ]
    }
   ],
   "source": [
    "# Check highest score in math : Return tuple \n",
    "\n",
    "math_score = [('Sam', 97), ('Michael', 83), ('Jesse',99)]\n",
    "\n",
    "def highest_score(math_score):\n",
    "    \n",
    "    # variables for comarision\n",
    "    compare_score = 0\n",
    "    highest_score_name = ''\n",
    "    \n",
    "    for name, score in math_score:\n",
    "        # compare two values\n",
    "        if score > compare_score:\n",
    "            compare_score = score\n",
    "            highest_score_name = name\n",
    "        else:          \n",
    "            pass\n",
    "    \n",
    "    # retrun higest score and the name\n",
    "    return(highest_score_name,compare_score)\n",
    "\n",
    "\n",
    "name, score = highest_score(math_score)\n",
    "print(name, score)"
   ]
  }
 ],
 "metadata": {
  "kernelspec": {
   "display_name": "Python 3 (ipykernel)",
   "language": "python",
   "name": "python3"
  },
  "language_info": {
   "codemirror_mode": {
    "name": "ipython",
    "version": 3
   },
   "file_extension": ".py",
   "mimetype": "text/x-python",
   "name": "python",
   "nbconvert_exporter": "python",
   "pygments_lexer": "ipython3",
   "version": "3.9.7"
  }
 },
 "nbformat": 4,
 "nbformat_minor": 5
}
