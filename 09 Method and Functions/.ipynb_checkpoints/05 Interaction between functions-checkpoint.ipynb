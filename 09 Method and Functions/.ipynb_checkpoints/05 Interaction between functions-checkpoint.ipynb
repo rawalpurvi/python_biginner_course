{
 "cells": [
  {
   "cell_type": "markdown",
   "id": "712ec2e5",
   "metadata": {},
   "source": [
    "# Python Beginner Course by Purvi Rawal\n",
    "\n",
    "## Method and Functions\n",
    "\n",
    "### Interaction between functions\n",
    "\n",
    "In Python, functions are a powerful tool for breaking down complex tasks into smaller, more manageable units of code. One of the key benefits of using functions is the ability for them to communicate with one another. This means that one function can use the output of another function as its input, or even modify the behavior of another function.\n",
    "\n",
    "To understand this concept let's see the example of *rock paper scissor* in python. "
   ]
  },
  {
   "cell_type": "code",
   "execution_count": 1,
   "id": "68f1fa06",
   "metadata": {},
   "outputs": [],
   "source": [
    "from random import randint\n",
    "\n",
    "#create a list of play options\n",
    "choice = [\"Rock\", \"Paper\", \"Scissor\"]"
   ]
  },
  {
   "cell_type": "code",
   "execution_count": 2,
   "id": "1bbe9919",
   "metadata": {},
   "outputs": [],
   "source": [
    "# Get User input\n",
    "\n",
    "def get_user_choice():\n",
    "     \n",
    "    right_option = False\n",
    "    \n",
    "    # Loop utill user give correct input to play a game\n",
    "    while right_option == False:\n",
    "        user_input = input(\"Please select rock, paper or scissor? \")\n",
    "        \n",
    "        if user_input.capitalize() in choice:\n",
    "            right_option = True\n",
    "            break\n",
    "        else:\n",
    "            print(\"Please select correct choice\")\n",
    "            continue\n",
    "    \n",
    "    # return user_input\n",
    "    return user_input.capitalize()"
   ]
  },
  {
   "cell_type": "code",
   "execution_count": 3,
   "id": "539c3cfa",
   "metadata": {},
   "outputs": [],
   "source": [
    "#  Winner logic\n",
    "\n",
    "def select_winner(random_choice, user_choice):\n",
    "    \n",
    "    # Check who is the winner\n",
    "    if user_choice == random_choice:\n",
    "        print(\"Tie!\")\n",
    "    elif user_choice == \"Rock\":\n",
    "        if random_choice == \"Paper\":\n",
    "            print(\"You lose!\", random_choice, \"covers\", user_choice)\n",
    "        else:\n",
    "            print(\"You win!\", user_choice, \"smashes\", random_choice)\n",
    "    elif user_choice == \"Paper\":\n",
    "        if random_choice == \"Scissors\":\n",
    "            print(\"You lose!\", random_choice, \"cut\", user_choice)\n",
    "        else:\n",
    "            print(\"You win!\", user_choice, \"covers\", random_choice)\n",
    "    elif user_choice == \"Scissor\":\n",
    "        if random_choice == \"Rock\":\n",
    "            print(\"You lose...\", random_choice, \"smashes\", user_choice)\n",
    "        else:\n",
    "            print(\"You win!\", user_choice, \"cut\", random_choice)\n",
    "    else:\n",
    "        print(\"Wrong input!\")\n",
    "    "
   ]
  },
  {
   "cell_type": "code",
   "execution_count": 4,
   "id": "16e980b5",
   "metadata": {},
   "outputs": [],
   "source": [
    "# Ask user to play again\n",
    "\n",
    "def play_again():\n",
    "    \n",
    "    flag = False\n",
    "    choices = ['Y','N']\n",
    "\n",
    "    while flag == False:\n",
    "    \n",
    "        user_input = input(\"Do you want to play again Y or N ? \")\n",
    "        \n",
    "        # Check user select correct choice\n",
    "        if user_input.upper() in choices:\n",
    "            flag = True\n",
    "            break\n",
    "        else:\n",
    "            print(\"Please select correct choice\")\n",
    "            \n",
    "    return user_input.upper()\n",
    "    "
   ]
  },
  {
   "cell_type": "code",
   "execution_count": 5,
   "id": "6e36c24a",
   "metadata": {},
   "outputs": [
    {
     "name": "stdout",
     "output_type": "stream",
     "text": [
      "Please select rock, paper or scissor? rock\n",
      "You lose! Paper covers Rock\n",
      "Do you want to play again Y or N ? y\n",
      "Please select rock, paper or scissor? scissor\n",
      "You win! Scissor cut Paper\n",
      "Do you want to play again Y or N ? n\n"
     ]
    }
   ],
   "source": [
    "# Game logic\n",
    "\n",
    "game_on = True\n",
    "\n",
    "while game_on == True :\n",
    "    \n",
    "    # Get random choice\n",
    "    random_choice = choice[randint(0,2)]\n",
    "    \n",
    "    # Get user choice\n",
    "    user_choice = get_user_choice()\n",
    "    \n",
    "    # See winner\n",
    "    select_winner(random_choice,user_choice)\n",
    "    \n",
    "    # Ask user to play again\n",
    "    flag = play_again()\n",
    "    if flag == 'N':\n",
    "        game_on = False\n",
    "        break\n",
    "    else:\n",
    "        continue"
   ]
  }
 ],
 "metadata": {
  "kernelspec": {
   "display_name": "Python 3 (ipykernel)",
   "language": "python",
   "name": "python3"
  },
  "language_info": {
   "codemirror_mode": {
    "name": "ipython",
    "version": 3
   },
   "file_extension": ".py",
   "mimetype": "text/x-python",
   "name": "python",
   "nbconvert_exporter": "python",
   "pygments_lexer": "ipython3",
   "version": "3.9.7"
  }
 },
 "nbformat": 4,
 "nbformat_minor": 5
}
