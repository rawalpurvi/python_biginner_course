{
 "cells": [
  {
   "cell_type": "markdown",
   "id": "50ebfb90",
   "metadata": {},
   "source": [
    "# Python Beginner Course by Purvi Rawal\n",
    "\n",
    "## Methods and Functions\n",
    "\n",
    "### Logic with python function\n",
    "\n",
    "Python functions are very useful to build a small logical program. Here we will see some of the examples. "
   ]
  },
  {
   "cell_type": "code",
   "execution_count": 1,
   "id": "a03262a9",
   "metadata": {},
   "outputs": [
    {
     "data": {
      "text/plain": [
       "[5, 9, 11]"
      ]
     },
     "execution_count": 1,
     "metadata": {},
     "output_type": "execute_result"
    }
   ],
   "source": [
    "# Return odd numbers from the list\n",
    "\n",
    "def check_even_number(num_list):\n",
    "   \n",
    "    result = []\n",
    "    for i in num_list:\n",
    "        if i % 2 != 0:\n",
    "            result.append(i)\n",
    "        else:\n",
    "            pass\n",
    "    return result\n",
    "    \n",
    "check_even_number([2,5,6,8,9,11])"
   ]
  },
  {
   "cell_type": "code",
   "execution_count": 2,
   "id": "3b66d0f4",
   "metadata": {},
   "outputs": [
    {
     "name": "stdout",
     "output_type": "stream",
     "text": [
      "[0, 1, 1, 2, 3, 5, 8, 13, 21, 34]\n"
     ]
    }
   ],
   "source": [
    "# Generate fibonacci numbers\n",
    "\n",
    "def fibonacci(n):\n",
    "    \n",
    "    a, b = 0, 1\n",
    "    result = []\n",
    "    for i in range(n):\n",
    "        result.append(a)\n",
    "        a, b = b, a+b\n",
    "    return result\n",
    "\n",
    "# Generate the first ten numbers in the Fibonacci series\n",
    "print(fibonacci(10))"
   ]
  }
 ],
 "metadata": {
  "kernelspec": {
   "display_name": "Python 3 (ipykernel)",
   "language": "python",
   "name": "python3"
  },
  "language_info": {
   "codemirror_mode": {
    "name": "ipython",
    "version": 3
   },
   "file_extension": ".py",
   "mimetype": "text/x-python",
   "name": "python",
   "nbconvert_exporter": "python",
   "pygments_lexer": "ipython3",
   "version": "3.9.7"
  }
 },
 "nbformat": 4,
 "nbformat_minor": 5
}
