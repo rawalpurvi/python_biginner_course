{
 "cells": [
  {
   "cell_type": "markdown",
   "id": "fb2640c1",
   "metadata": {},
   "source": [
    "# Python Beginner Course by Purvi Rawal\n",
    "\n",
    "## Method and Functions\n",
    "\n",
    "### Introduction to functions\n",
    "\n",
    "A function is a block of code which only runs when it is called. You can pass data, known as parameters or arguments, into a function. A function can return data as a result.\n",
    "\n",
    "A function allow us to create blocks of code that can be easily executed many times, without rewritting them again and again. Creating clean repeatable code is very important as a programmer.\n",
    "\n",
    "\n",
    "### Def keyword and basics of function\n",
    "\n",
    "def my_function(num1, num2):\n",
    "    \n",
    "    '''\n",
    "    Expalin about the function.\n",
    "    '''\n",
    "    \n",
    "    num3 = add(num1 + num2)\n",
    "    \n",
    "    return num3   \n",
    "    \n",
    "* def : In Python a function is defined using the def keyword\n",
    "* name of the function : Function name should be in sanke casing means all lowercase and put underscores between the words.\n",
    "* arguments : Arguments are specified after the function name, inside the parentheses. You can add as many arguments as you want, just separate them with a comma.\n",
    "* docstring: Optional to explain about what function do. \n",
    "* indentation : Everything inside the function is indented.\n",
    "* return : To let a function return a value, use the return statement\n",
    "\n",
    "\n",
    "*How to call a Function :*\n",
    "\n",
    "result = my_function(1,2)"
   ]
  },
  {
   "cell_type": "code",
   "execution_count": 1,
   "id": "d5f31ee9",
   "metadata": {},
   "outputs": [
    {
     "name": "stdout",
     "output_type": "stream",
     "text": [
      "Hello\n"
     ]
    }
   ],
   "source": [
    "# Simple example of function\n",
    "\n",
    "# Define a function\n",
    "def my_fucntion():\n",
    "    \n",
    "    '''\n",
    "    Simple print function\n",
    "    '''\n",
    "    print(\"Hello\")\n",
    "\n",
    "# Call a function\n",
    "\n",
    "my_fucntion()  "
   ]
  },
  {
   "cell_type": "code",
   "execution_count": 2,
   "id": "911b9556",
   "metadata": {},
   "outputs": [
    {
     "name": "stdout",
     "output_type": "stream",
     "text": [
      "Hello, Purvi!\n"
     ]
    }
   ],
   "source": [
    "# Simple example of function with argument\n",
    "\n",
    "# Define a function\n",
    "def my_fucntion(name):\n",
    "    \n",
    "    '''\n",
    "    Simple print function with argument\n",
    "    '''\n",
    "    print(f\"Hello, {name}!\")\n",
    "\n",
    "# Call a function\n",
    "\n",
    "my_fucntion(\"Purvi\")  "
   ]
  },
  {
   "cell_type": "code",
   "execution_count": 3,
   "id": "34d5e4ef",
   "metadata": {},
   "outputs": [
    {
     "name": "stdout",
     "output_type": "stream",
     "text": [
      "12\n"
     ]
    }
   ],
   "source": [
    "# Simple example of function with argument\n",
    "\n",
    "# Define a function\n",
    "def add_nums(num1,num2):\n",
    "    \n",
    "    '''\n",
    "    Add two values\n",
    "    '''\n",
    "    print(num1+num2) # Print statement just print the result\n",
    "\n",
    "# Call a function\n",
    "\n",
    "add_nums(5,7) # We can not get any result here to use the value again"
   ]
  },
  {
   "cell_type": "code",
   "execution_count": 4,
   "id": "6be0393b",
   "metadata": {},
   "outputs": [
    {
     "data": {
      "text/plain": [
       "12"
      ]
     },
     "execution_count": 4,
     "metadata": {},
     "output_type": "execute_result"
    }
   ],
   "source": [
    "# Simple example of function with argument and return statement\n",
    "\n",
    "# Define a function\n",
    "def add_nums(num1,num2):\n",
    "    \n",
    "    '''\n",
    "    Add two values\n",
    "    '''\n",
    "    return num1+num2 # Return statement no need parantheses\n",
    "\n",
    "# Call a function\n",
    "\n",
    "result = add_nums(5,7) # We can actual result here to use the value again\n",
    "result"
   ]
  }
 ],
 "metadata": {
  "kernelspec": {
   "display_name": "Python 3 (ipykernel)",
   "language": "python",
   "name": "python3"
  },
  "language_info": {
   "codemirror_mode": {
    "name": "ipython",
    "version": 3
   },
   "file_extension": ".py",
   "mimetype": "text/x-python",
   "name": "python",
   "nbconvert_exporter": "python",
   "pygments_lexer": "ipython3",
   "version": "3.9.7"
  }
 },
 "nbformat": 4,
 "nbformat_minor": 5
}
