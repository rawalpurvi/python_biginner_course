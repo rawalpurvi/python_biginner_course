{
 "cells": [
  {
   "cell_type": "markdown",
   "id": "92558e13",
   "metadata": {},
   "source": [
    "# Python Beginner Course by Purvi Rawal\n",
    "\n",
    "## Numbers\n",
    "\n",
    "We have learned basics about numbers in the Data Types topic. In this topic we will learn how to use and manipulate numbers in Python. \n",
    "\n",
    "1. Integer number: 10, 20, 30 \n",
    "2. float number: 10.5, 200.3\n",
    "\n",
    "## Number Functions with Python\n",
    "\n",
    "We can use numbers and perform any math operatoins. Python has some in-buit functions and some libraries we can use to perform math operations. \n",
    "\n",
    "* **min()**\n",
    "* **max()**\n",
    "* **pow()**\n",
    "* **abs()**\n",
    "\n",
    "### Need math module \n",
    "\n",
    "* **ceil()**\n",
    "* **sqrt()**\n",
    "* **sin()**\n",
    "* **cos()**\n",
    "* **tan()**\n",
    "\n",
    "### Need random module\n",
    "\n",
    "* **random()**\n",
    "* **randint()**\n",
    "* **shuffle()**"
   ]
  },
  {
   "cell_type": "code",
   "execution_count": 1,
   "id": "385264c3",
   "metadata": {},
   "outputs": [
    {
     "name": "stdout",
     "output_type": "stream",
     "text": [
      "300\n"
     ]
    }
   ],
   "source": [
    "# Integer example\n",
    "i = 300\n",
    "print(i)"
   ]
  },
  {
   "cell_type": "code",
   "execution_count": 2,
   "id": "5ead62cc",
   "metadata": {},
   "outputs": [
    {
     "name": "stdout",
     "output_type": "stream",
     "text": [
      "3.25\n"
     ]
    }
   ],
   "source": [
    "# Float example\n",
    "f = 3.25\n",
    "print(f)"
   ]
  },
  {
   "cell_type": "code",
   "execution_count": 3,
   "id": "add40334",
   "metadata": {},
   "outputs": [
    {
     "name": "stdout",
     "output_type": "stream",
     "text": [
      "2\n"
     ]
    }
   ],
   "source": [
    "# Example of min() gives minimum value\n",
    "print(min(2,3,4))"
   ]
  },
  {
   "cell_type": "code",
   "execution_count": 4,
   "id": "16b3c667",
   "metadata": {},
   "outputs": [
    {
     "name": "stdout",
     "output_type": "stream",
     "text": [
      "25\n"
     ]
    }
   ],
   "source": [
    "# Example of max() gives maximum value \n",
    "print(max(17,25,10))"
   ]
  },
  {
   "cell_type": "code",
   "execution_count": 5,
   "id": "c7c2387e",
   "metadata": {},
   "outputs": [
    {
     "name": "stdout",
     "output_type": "stream",
     "text": [
      "16\n"
     ]
    }
   ],
   "source": [
    "# Example of pow() gives 4 power 2\n",
    "print(pow(4,2))"
   ]
  },
  {
   "cell_type": "code",
   "execution_count": 6,
   "id": "1d661a3d",
   "metadata": {},
   "outputs": [
    {
     "name": "stdout",
     "output_type": "stream",
     "text": [
      "3.15\n"
     ]
    }
   ],
   "source": [
    "# Example of abs() gives absolute value\n",
    "a = -3.15\n",
    "print(abs(a))"
   ]
  },
  {
   "cell_type": "code",
   "execution_count": 7,
   "id": "0b4fc329",
   "metadata": {},
   "outputs": [
    {
     "name": "stdout",
     "output_type": "stream",
     "text": [
      "4\n"
     ]
    }
   ],
   "source": [
    "# Need math libraries\n",
    "import math\n",
    "\n",
    "# Example of ceil gives ceil value\n",
    "b = 3.15\n",
    "print(math.ceil(b))"
   ]
  },
  {
   "cell_type": "code",
   "execution_count": 8,
   "id": "1beadc8d",
   "metadata": {},
   "outputs": [
    {
     "name": "stdout",
     "output_type": "stream",
     "text": [
      "3.0\n"
     ]
    }
   ],
   "source": [
    "# Example of sqrt gives square root of 9\n",
    "print(math.sqrt(9))"
   ]
  },
  {
   "cell_type": "code",
   "execution_count": 9,
   "id": "0c325b0c",
   "metadata": {},
   "outputs": [
    {
     "name": "stdout",
     "output_type": "stream",
     "text": [
      "0.7451131604793488\n"
     ]
    }
   ],
   "source": [
    "# Example of sine value\n",
    "print(math.sin(40))"
   ]
  },
  {
   "cell_type": "code",
   "execution_count": 10,
   "id": "c2fe375d",
   "metadata": {},
   "outputs": [
    {
     "name": "stdout",
     "output_type": "stream",
     "text": [
      "-0.6669380616522619\n"
     ]
    }
   ],
   "source": [
    "# Example of cosine value\n",
    "print(math.cos(40))"
   ]
  },
  {
   "cell_type": "code",
   "execution_count": 11,
   "id": "27a9b9cd",
   "metadata": {},
   "outputs": [
    {
     "name": "stdout",
     "output_type": "stream",
     "text": [
      "-1.117214930923896\n"
     ]
    }
   ],
   "source": [
    "# Example of tangent value\n",
    "print(math.tan(40))"
   ]
  },
  {
   "cell_type": "code",
   "execution_count": 12,
   "id": "d24ef843",
   "metadata": {},
   "outputs": [
    {
     "name": "stdout",
     "output_type": "stream",
     "text": [
      "0.2435328412831249\n"
     ]
    }
   ],
   "source": [
    "# Import random module\n",
    "import random\n",
    "\n",
    "# Example of random gives random value\n",
    "print(random.random())"
   ]
  },
  {
   "cell_type": "code",
   "execution_count": 13,
   "id": "be4181c9",
   "metadata": {},
   "outputs": [
    {
     "name": "stdout",
     "output_type": "stream",
     "text": [
      "2\n"
     ]
    }
   ],
   "source": [
    "# Example of randint gives random integer value from 0 to 10\n",
    "print(random.randint(0,10))"
   ]
  },
  {
   "cell_type": "code",
   "execution_count": 14,
   "id": "78e5138e",
   "metadata": {},
   "outputs": [
    {
     "data": {
      "text/plain": [
       "[6, 4, 2, 1, 3, 5]"
      ]
     },
     "execution_count": 14,
     "metadata": {},
     "output_type": "execute_result"
    }
   ],
   "source": [
    "# Example of shuffle gives shuffled list\n",
    "\n",
    "mylist = [1,2,3,4,5,6]\n",
    "random.shuffle(mylist) # return none \n",
    "mylist # change list itself"
   ]
  }
 ],
 "metadata": {
  "kernelspec": {
   "display_name": "Python 3 (ipykernel)",
   "language": "python",
   "name": "python3"
  },
  "language_info": {
   "codemirror_mode": {
    "name": "ipython",
    "version": 3
   },
   "file_extension": ".py",
   "mimetype": "text/x-python",
   "name": "python",
   "nbconvert_exporter": "python",
   "pygments_lexer": "ipython3",
   "version": "3.9.7"
  }
 },
 "nbformat": 4,
 "nbformat_minor": 5
}
