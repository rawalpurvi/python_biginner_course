{
 "cells": [
  {
   "cell_type": "markdown",
   "id": "8575a0be",
   "metadata": {},
   "source": [
    "# Python Beginner Course by Purvi Rawal\n",
    "\n",
    "## Python Data Structure\n",
    "\n",
    "### Introdction\n",
    "\n",
    "Data structures are code structures for storing and organizing data that make it easier to modity, navigate and access information. Data structues are **vital building blocks** for efficient, real-wrorld problem solving and also simplify and speed up data processing. \n",
    "\n",
    "Python has 4 built-in data structures:\n",
    "\n",
    "* **List**\n",
    "* **Dictionary**\n",
    "* **Tuple**\n",
    "* **Set**"
   ]
  }
 ],
 "metadata": {
  "kernelspec": {
   "display_name": "Python 3 (ipykernel)",
   "language": "python",
   "name": "python3"
  },
  "language_info": {
   "codemirror_mode": {
    "name": "ipython",
    "version": 3
   },
   "file_extension": ".py",
   "mimetype": "text/x-python",
   "name": "python",
   "nbconvert_exporter": "python",
   "pygments_lexer": "ipython3",
   "version": "3.9.7"
  }
 },
 "nbformat": 4,
 "nbformat_minor": 5
}
