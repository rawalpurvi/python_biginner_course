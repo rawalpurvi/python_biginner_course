{
 "cells": [
  {
   "cell_type": "markdown",
   "id": "edfde4fc",
   "metadata": {},
   "source": [
    "# Python Beginner Course by Purvi Rawal\n",
    "\n",
    "## Python Data Structure\n",
    "\n",
    "### Tuple\n",
    "\n",
    "Tuples are very similar to lists. However they have one key difference **immutability**. Once element is inside the tuple can not be reassign. \n",
    "\n",
    "Tuple is going to looks similar in syntax to what we see with a list. But the elements are not changeable. If you want to work with an option that will keep the elements the same all of the time, once you are done putting them in place. For example students name of the last year class you can store in a tuple because it will not change the list. \n",
    "\n",
    "**Create an empty tuple**\n",
    "\n",
    "t_list = tuple()\n",
    "\n",
    "#### Tuple example\n",
    "\n",
    "t_list = (1,2,3)\n",
    "\n",
    "#### Tuple methods\n",
    "\n",
    "Tuple has only two buit-in methods available. \n",
    "\n",
    "* **index**\n",
    "* **count**"
   ]
  },
  {
   "cell_type": "code",
   "execution_count": 1,
   "id": "5c6ee25a",
   "metadata": {},
   "outputs": [
    {
     "data": {
      "text/plain": [
       "(1990, 1991, 1992, 1993, 1994)"
      ]
     },
     "execution_count": 1,
     "metadata": {},
     "output_type": "execute_result"
    }
   ],
   "source": [
    "# set tuple\n",
    "\n",
    "t_years = (1990,1991,1992,1993,1994)\n",
    "t_years"
   ]
  },
  {
   "cell_type": "code",
   "execution_count": 2,
   "id": "eb43e2e2",
   "metadata": {},
   "outputs": [
    {
     "data": {
      "text/plain": [
       "1990"
      ]
     },
     "execution_count": 2,
     "metadata": {},
     "output_type": "execute_result"
    }
   ],
   "source": [
    "# Tuple indexing and slicing\n",
    "\n",
    "t_years[0]"
   ]
  },
  {
   "cell_type": "code",
   "execution_count": 3,
   "id": "eded721d",
   "metadata": {},
   "outputs": [
    {
     "data": {
      "text/plain": [
       "(1991, 1992, 1993, 1994)"
      ]
     },
     "execution_count": 3,
     "metadata": {},
     "output_type": "execute_result"
    }
   ],
   "source": [
    "# Tuple indexing and slicing\n",
    "\n",
    "t_years[1:]"
   ]
  },
  {
   "cell_type": "code",
   "execution_count": 4,
   "id": "3ff20e3c",
   "metadata": {},
   "outputs": [
    {
     "ename": "TypeError",
     "evalue": "'tuple' object does not support item assignment",
     "output_type": "error",
     "traceback": [
      "\u001b[0;31m---------------------------------------------------------------------------\u001b[0m",
      "\u001b[0;31mTypeError\u001b[0m                                 Traceback (most recent call last)",
      "Cell \u001b[0;32mIn[4], line 3\u001b[0m\n\u001b[1;32m      1\u001b[0m \u001b[38;5;66;03m# Tuple can not be reassign\u001b[39;00m\n\u001b[0;32m----> 3\u001b[0m \u001b[43mt_years\u001b[49m\u001b[43m[\u001b[49m\u001b[38;5;241;43m0\u001b[39;49m\u001b[43m]\u001b[49m \u001b[38;5;241m=\u001b[39m \u001b[38;5;241m1989\u001b[39m\n",
      "\u001b[0;31mTypeError\u001b[0m: 'tuple' object does not support item assignment"
     ]
    }
   ],
   "source": [
    "# Tuple can not be reassign\n",
    "\n",
    "t_years[0] = 1989"
   ]
  },
  {
   "cell_type": "code",
   "execution_count": 5,
   "id": "6eb22e4c",
   "metadata": {},
   "outputs": [
    {
     "data": {
      "text/plain": [
       "1"
      ]
     },
     "execution_count": 5,
     "metadata": {},
     "output_type": "execute_result"
    }
   ],
   "source": [
    "# Index method gives index position of the element\n",
    "\n",
    "t_years.index(1991)"
   ]
  },
  {
   "cell_type": "code",
   "execution_count": 6,
   "id": "006a9128",
   "metadata": {},
   "outputs": [
    {
     "data": {
      "text/plain": [
       "1"
      ]
     },
     "execution_count": 6,
     "metadata": {},
     "output_type": "execute_result"
    }
   ],
   "source": [
    "# Count method gives number of occurence of that element\n",
    "t_years.count(1991)"
   ]
  }
 ],
 "metadata": {
  "kernelspec": {
   "display_name": "Python 3 (ipykernel)",
   "language": "python",
   "name": "python3"
  },
  "language_info": {
   "codemirror_mode": {
    "name": "ipython",
    "version": 3
   },
   "file_extension": ".py",
   "mimetype": "text/x-python",
   "name": "python",
   "nbconvert_exporter": "python",
   "pygments_lexer": "ipython3",
   "version": "3.9.7"
  }
 },
 "nbformat": 4,
 "nbformat_minor": 5
}
