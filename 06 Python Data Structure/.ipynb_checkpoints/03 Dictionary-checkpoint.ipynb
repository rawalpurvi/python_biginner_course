{
 "cells": [
  {
   "cell_type": "markdown",
   "id": "b27c4105",
   "metadata": {},
   "source": [
    "# Python Beginner Course by Purvi Rawal\n",
    "\n",
    "## Python Data Structure\n",
    "\n",
    "### Dictonary\n",
    "\n",
    "Dictonaries are unordered mappings for storing objects. As we learned lists store objects in an ordered sequence, dictionaries use a key-value paring instead. This key-value pair allows users to quickly get objects without knowing an index location.\n",
    "\n",
    "Distionaries use curly braces and colons to signify the keys and their value.\n",
    "\n",
    "**{'Key1':'value1', 'key2':'value2', 'key3':'value3'}**\n",
    "\n",
    "Dictionaries are unordered and can not be sorted."
   ]
  },
  {
   "cell_type": "code",
   "execution_count": 1,
   "id": "80811821",
   "metadata": {},
   "outputs": [
    {
     "data": {
      "text/plain": [
       "85"
      ]
     },
     "execution_count": 1,
     "metadata": {},
     "output_type": "execute_result"
    }
   ],
   "source": [
    "# Example of Dictionary\n",
    "\n",
    "my_result = {'math': 97,'english': 80, 'science': 85}\n",
    "my_result['science']\n"
   ]
  },
  {
   "cell_type": "code",
   "execution_count": 2,
   "id": "2ee6fb62",
   "metadata": {},
   "outputs": [],
   "source": [
    "# Complex example of Dictionary\n",
    "\n",
    "my_dict = {'name': 'Purvi', 'fruits':['orange','apple','banana'], 'scores':{'math': 90}} "
   ]
  },
  {
   "cell_type": "code",
   "execution_count": 3,
   "id": "16183663",
   "metadata": {},
   "outputs": [
    {
     "data": {
      "text/plain": [
       "'Purvi'"
      ]
     },
     "execution_count": 3,
     "metadata": {},
     "output_type": "execute_result"
    }
   ],
   "source": [
    "# Get value from my_dict\n",
    "\n",
    "my_dict['name']"
   ]
  },
  {
   "cell_type": "code",
   "execution_count": 4,
   "id": "b2e7852c",
   "metadata": {},
   "outputs": [
    {
     "data": {
      "text/plain": [
       "['orange', 'apple', 'banana']"
      ]
     },
     "execution_count": 4,
     "metadata": {},
     "output_type": "execute_result"
    }
   ],
   "source": [
    "# Get value from my_dict\n",
    "\n",
    "my_dict['fruits']"
   ]
  },
  {
   "cell_type": "code",
   "execution_count": 5,
   "id": "ecfec0f0",
   "metadata": {},
   "outputs": [
    {
     "data": {
      "text/plain": [
       "{'math': 90}"
      ]
     },
     "execution_count": 5,
     "metadata": {},
     "output_type": "execute_result"
    }
   ],
   "source": [
    "# Get value from my_dict\n",
    "\n",
    "my_dict['scores']"
   ]
  },
  {
   "cell_type": "code",
   "execution_count": 6,
   "id": "aa7f7fa8",
   "metadata": {},
   "outputs": [
    {
     "data": {
      "text/plain": [
       "'apple'"
      ]
     },
     "execution_count": 6,
     "metadata": {},
     "output_type": "execute_result"
    }
   ],
   "source": [
    "# Get list value from my_dict\n",
    "\n",
    "my_dict['fruits'][1]"
   ]
  },
  {
   "cell_type": "code",
   "execution_count": 7,
   "id": "67cfc9de",
   "metadata": {},
   "outputs": [
    {
     "data": {
      "text/plain": [
       "90"
      ]
     },
     "execution_count": 7,
     "metadata": {},
     "output_type": "execute_result"
    }
   ],
   "source": [
    "# Get dictonary value from my_dict\n",
    "\n",
    "my_dict['scores']['math']"
   ]
  },
  {
   "cell_type": "code",
   "execution_count": 8,
   "id": "b6fcd7ba",
   "metadata": {},
   "outputs": [
    {
     "data": {
      "text/plain": [
       "{'name': 'Purvi',\n",
       " 'fruits': ['orange', 'grapes', 'banana'],\n",
       " 'scores': {'math': 90}}"
      ]
     },
     "execution_count": 8,
     "metadata": {},
     "output_type": "execute_result"
    }
   ],
   "source": [
    "# change the value in Dictonary\n",
    "\n",
    "my_dict['fruits'][1] = 'grapes'\n",
    "my_dict"
   ]
  },
  {
   "cell_type": "code",
   "execution_count": 9,
   "id": "ae2a455f",
   "metadata": {},
   "outputs": [
    {
     "data": {
      "text/plain": [
       "dict_keys(['name', 'fruits', 'scores'])"
      ]
     },
     "execution_count": 9,
     "metadata": {},
     "output_type": "execute_result"
    }
   ],
   "source": [
    "# Get only keys from Dictonary\n",
    "my_dict.keys()"
   ]
  },
  {
   "cell_type": "code",
   "execution_count": 10,
   "id": "2d9f2b35",
   "metadata": {},
   "outputs": [
    {
     "data": {
      "text/plain": [
       "dict_values(['Purvi', ['orange', 'grapes', 'banana'], {'math': 90}])"
      ]
     },
     "execution_count": 10,
     "metadata": {},
     "output_type": "execute_result"
    }
   ],
   "source": [
    "# Get only values from Dictonary\n",
    "my_dict.values()"
   ]
  },
  {
   "cell_type": "code",
   "execution_count": 11,
   "id": "9bfe198e",
   "metadata": {},
   "outputs": [
    {
     "data": {
      "text/plain": [
       "dict_items([('name', 'Purvi'), ('fruits', ['orange', 'grapes', 'banana']), ('scores', {'math': 90})])"
      ]
     },
     "execution_count": 11,
     "metadata": {},
     "output_type": "execute_result"
    }
   ],
   "source": [
    "# Get key and value as a list, will get list of tuples\n",
    "\n",
    "my_dict.items()"
   ]
  },
  {
   "cell_type": "code",
   "execution_count": 12,
   "id": "51003540",
   "metadata": {},
   "outputs": [
    {
     "data": {
      "text/plain": [
       "{'name': 'Purvi',\n",
       " 'fruits': ['orange', 'grapes', 'banana'],\n",
       " 'scores': {'math': 90},\n",
       " 'email': 'purvirawal.work@gmail.com'}"
      ]
     },
     "execution_count": 12,
     "metadata": {},
     "output_type": "execute_result"
    }
   ],
   "source": [
    "# Adding an item to the dictionary is done by using a new index key and assigning a value to it.\n",
    "\n",
    "my_dict['email'] = 'purvirawal.work@gmail.com'\n",
    "my_dict"
   ]
  }
 ],
 "metadata": {
  "kernelspec": {
   "display_name": "Python 3 (ipykernel)",
   "language": "python",
   "name": "python3"
  },
  "language_info": {
   "codemirror_mode": {
    "name": "ipython",
    "version": 3
   },
   "file_extension": ".py",
   "mimetype": "text/x-python",
   "name": "python",
   "nbconvert_exporter": "python",
   "pygments_lexer": "ipython3",
   "version": "3.9.7"
  }
 },
 "nbformat": 4,
 "nbformat_minor": 5
}
