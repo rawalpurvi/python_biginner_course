{
 "cells": [
  {
   "cell_type": "markdown",
   "id": "76c3059b",
   "metadata": {},
   "source": [
    "# Python Beginner Course by Purvi Rawal\n",
    "\n",
    "## Python Data Structure\n",
    "\n",
    "### Python Lists\n",
    "\n",
    "Lists are array like structures that let you save a set of mutable objects of the different types of data. Lists are ordered squences that can hold a variety of object types. They use [ ] brackets and commas to seprated object in list.\n",
    "\n",
    "**Create an emplty list**\n",
    "language_names = [ ]\n",
    "\n",
    "**List Example**\n",
    "\n",
    "languge_names = ['Python,'Java', 'PHP']\n",
    "\n",
    "Lists support indexing and slicing. List can be nested and also have a variety of useful methods that can be calles of them."
   ]
  },
  {
   "cell_type": "code",
   "execution_count": 1,
   "id": "a9e89e87",
   "metadata": {},
   "outputs": [
    {
     "data": {
      "text/plain": [
       "['Sonia', 'Six Grade', 4.0]"
      ]
     },
     "execution_count": 1,
     "metadata": {},
     "output_type": "execute_result"
    }
   ],
   "source": [
    "# Example of mix data types in the list\n",
    "\n",
    "my_result = ['Sonia','Six Grade', 4.0]\n",
    "my_result"
   ]
  },
  {
   "cell_type": "code",
   "execution_count": 2,
   "id": "e4990938",
   "metadata": {},
   "outputs": [
    {
     "data": {
      "text/plain": [
       "3"
      ]
     },
     "execution_count": 2,
     "metadata": {},
     "output_type": "execute_result"
    }
   ],
   "source": [
    "# Get length of the list\n",
    "\n",
    "len(my_result)"
   ]
  },
  {
   "cell_type": "code",
   "execution_count": 3,
   "id": "ebee16c0",
   "metadata": {},
   "outputs": [
    {
     "name": "stdout",
     "output_type": "stream",
     "text": [
      "['apple', 'pineapple', 'orange', 'banana', 'grapes']\n"
     ]
    }
   ],
   "source": [
    "# Combine two lists\n",
    "\n",
    "list_one = ['apple','pineapple', 'orange']\n",
    "list_two = ['banana', 'grapes']\n",
    "\n",
    "fruits = list_one + list_two\n",
    "print(fruits)\n"
   ]
  },
  {
   "cell_type": "code",
   "execution_count": 4,
   "id": "e8aef165",
   "metadata": {},
   "outputs": [
    {
     "data": {
      "text/plain": [
       "'Sonia'"
      ]
     },
     "execution_count": 4,
     "metadata": {},
     "output_type": "execute_result"
    }
   ],
   "source": [
    "# Indexing and Slicing\n",
    "\n",
    "my_result[0]"
   ]
  },
  {
   "cell_type": "code",
   "execution_count": 5,
   "id": "a1b8f929",
   "metadata": {},
   "outputs": [
    {
     "data": {
      "text/plain": [
       "['Sonia', 'Six Grade']"
      ]
     },
     "execution_count": 5,
     "metadata": {},
     "output_type": "execute_result"
    }
   ],
   "source": [
    "# Indexing and Slicing\n",
    "\n",
    "my_result[:2]"
   ]
  },
  {
   "cell_type": "code",
   "execution_count": 6,
   "id": "24e1eae3",
   "metadata": {},
   "outputs": [
    {
     "data": {
      "text/plain": [
       "['Sonia', 'Six Grade', 'GPA 4.0']"
      ]
     },
     "execution_count": 6,
     "metadata": {},
     "output_type": "execute_result"
    }
   ],
   "source": [
    "# Indexing and Slicing\n",
    "\n",
    "my_result[2] = 'GPA 4.0'\n",
    "my_result"
   ]
  },
  {
   "cell_type": "markdown",
   "id": "5048786a",
   "metadata": {},
   "source": [
    "#### List Methods\n",
    "\n",
    "some of the methods listed that we can use with lists.\n",
    "\n",
    "* **append**\n",
    "* **pop**\n",
    "* **sort**\n",
    "* **reverse**\n",
    "* **index**\n",
    "* **count**"
   ]
  },
  {
   "cell_type": "code",
   "execution_count": 7,
   "id": "b6d73414",
   "metadata": {},
   "outputs": [
    {
     "data": {
      "text/plain": [
       "['one', 'two', 'three', 'four', 'five']"
      ]
     },
     "execution_count": 7,
     "metadata": {},
     "output_type": "execute_result"
    }
   ],
   "source": [
    "my_list = ['one', 'two', 'three', 'four', 'five']\n",
    "my_list"
   ]
  },
  {
   "cell_type": "code",
   "execution_count": 8,
   "id": "432eee89",
   "metadata": {},
   "outputs": [
    {
     "data": {
      "text/plain": [
       "['one', 'two', 'three', 'four', 'five', 'six']"
      ]
     },
     "execution_count": 8,
     "metadata": {},
     "output_type": "execute_result"
    }
   ],
   "source": [
    "# append method put new value into the list at the end\n",
    "\n",
    "my_list.append('six')\n",
    "my_list"
   ]
  },
  {
   "cell_type": "code",
   "execution_count": 9,
   "id": "9ba86254",
   "metadata": {},
   "outputs": [
    {
     "data": {
      "text/plain": [
       "['one', 'two', 'three', 'four', 'five']"
      ]
     },
     "execution_count": 9,
     "metadata": {},
     "output_type": "execute_result"
    }
   ],
   "source": [
    "# pop method remove value from the list by default at the end\n",
    "\n",
    "my_list.pop()\n",
    "my_list"
   ]
  },
  {
   "cell_type": "code",
   "execution_count": 10,
   "id": "546ef4b4",
   "metadata": {},
   "outputs": [
    {
     "data": {
      "text/plain": [
       "['two', 'three', 'four', 'five']"
      ]
     },
     "execution_count": 10,
     "metadata": {},
     "output_type": "execute_result"
    }
   ],
   "source": [
    "# Give index for specific value to be removed\n",
    "\n",
    "my_list.pop(0)\n",
    "my_list"
   ]
  },
  {
   "cell_type": "code",
   "execution_count": 11,
   "id": "9772c92e",
   "metadata": {},
   "outputs": [
    {
     "data": {
      "text/plain": [
       "['a', 'c ', 'd', 'x', 'z']"
      ]
     },
     "execution_count": 11,
     "metadata": {},
     "output_type": "execute_result"
    }
   ],
   "source": [
    "# Example of sorting\n",
    "\n",
    "alpha_list = ['a', 'c ', 'z', 'd', 'x']\n",
    "number_list = [0, 20, 15, 5, 6]\n",
    "\n",
    "alpha_list.sort()\n",
    "alpha_list"
   ]
  },
  {
   "cell_type": "code",
   "execution_count": 12,
   "id": "ae6b5bef",
   "metadata": {},
   "outputs": [],
   "source": [
    "# sorting will only return a list\n",
    "\n",
    "change_list = number_list.sort()\n",
    "change_list"
   ]
  },
  {
   "cell_type": "code",
   "execution_count": 13,
   "id": "23c0200e",
   "metadata": {},
   "outputs": [
    {
     "data": {
      "text/plain": [
       "[0, 5, 6, 15, 20]"
      ]
     },
     "execution_count": 13,
     "metadata": {},
     "output_type": "execute_result"
    }
   ],
   "source": [
    "# Sort function chage the orignal list itself\n",
    "\n",
    "number_list"
   ]
  },
  {
   "cell_type": "code",
   "execution_count": 14,
   "id": "4dfb782e",
   "metadata": {},
   "outputs": [
    {
     "data": {
      "text/plain": [
       "[20, 15, 6, 5, 0]"
      ]
     },
     "execution_count": 14,
     "metadata": {},
     "output_type": "execute_result"
    }
   ],
   "source": [
    "# Reverse method will reverse the list\n",
    "\n",
    "number_list.reverse()\n",
    "number_list"
   ]
  },
  {
   "cell_type": "code",
   "execution_count": 16,
   "id": "3b328ad1",
   "metadata": {},
   "outputs": [
    {
     "data": {
      "text/plain": [
       "0"
      ]
     },
     "execution_count": 16,
     "metadata": {},
     "output_type": "execute_result"
    }
   ],
   "source": [
    "# index method gives index position for given value\n",
    "\n",
    "number_list.index(20)"
   ]
  },
  {
   "cell_type": "code",
   "execution_count": 17,
   "id": "b7bff637",
   "metadata": {},
   "outputs": [
    {
     "data": {
      "text/plain": [
       "1"
      ]
     },
     "execution_count": 17,
     "metadata": {},
     "output_type": "execute_result"
    }
   ],
   "source": [
    "# count method gives number of occurence of that value in the list\n",
    "\n",
    "number_list.count(6)"
   ]
  }
 ],
 "metadata": {
  "kernelspec": {
   "display_name": "Python 3 (ipykernel)",
   "language": "python",
   "name": "python3"
  },
  "language_info": {
   "codemirror_mode": {
    "name": "ipython",
    "version": 3
   },
   "file_extension": ".py",
   "mimetype": "text/x-python",
   "name": "python",
   "nbconvert_exporter": "python",
   "pygments_lexer": "ipython3",
   "version": "3.9.7"
  }
 },
 "nbformat": 4,
 "nbformat_minor": 5
}
