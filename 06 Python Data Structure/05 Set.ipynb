{
 "cells": [
  {
   "cell_type": "markdown",
   "id": "4d642ddf",
   "metadata": {},
   "source": [
    "# Python Beginner Course by Purvi Rawal\n",
    "\n",
    "## Python Data Structure\n",
    "\n",
    "## Sets\n",
    "\n",
    "Sets are unrodered collection of **unique** elements. Only one representative of the same object. \n",
    "\n",
    "**Create an empty set**\n",
    "\n",
    "my_set = set()\n",
    "\n",
    "#### Example of set\n",
    "\n",
    "my_set = {'one','two','three'}"
   ]
  },
  {
   "cell_type": "code",
   "execution_count": 1,
   "id": "2283baa8",
   "metadata": {},
   "outputs": [
    {
     "data": {
      "text/plain": [
       "{'four', 'one', 'three', 'two'}"
      ]
     },
     "execution_count": 1,
     "metadata": {},
     "output_type": "execute_result"
    }
   ],
   "source": [
    "# Add element into the set\n",
    "\n",
    "my_set = {'one','two','three'}\n",
    "my_set.add('four')\n",
    "my_set"
   ]
  },
  {
   "cell_type": "code",
   "execution_count": 2,
   "id": "e39f51d5",
   "metadata": {},
   "outputs": [
    {
     "data": {
      "text/plain": [
       "{'four', 'one', 'three', 'two'}"
      ]
     },
     "execution_count": 2,
     "metadata": {},
     "output_type": "execute_result"
    }
   ],
   "source": [
    "# Try to add same element, will not add same element\n",
    "\n",
    "my_set.add('two')\n",
    "my_set"
   ]
  },
  {
   "cell_type": "code",
   "execution_count": 3,
   "id": "d21d81eb",
   "metadata": {},
   "outputs": [
    {
     "data": {
      "text/plain": [
       "{1, 2, 3, 4, 5, 6}"
      ]
     },
     "execution_count": 3,
     "metadata": {},
     "output_type": "execute_result"
    }
   ],
   "source": [
    "# Change list to set, it will return set of unique element\n",
    "\n",
    "my_list = [1,2,3,4,3,4,5,6,4,6]\n",
    "set(my_list)"
   ]
  }
 ],
 "metadata": {
  "kernelspec": {
   "display_name": "Python 3 (ipykernel)",
   "language": "python",
   "name": "python3"
  },
  "language_info": {
   "codemirror_mode": {
    "name": "ipython",
    "version": 3
   },
   "file_extension": ".py",
   "mimetype": "text/x-python",
   "name": "python",
   "nbconvert_exporter": "python",
   "pygments_lexer": "ipython3",
   "version": "3.9.7"
  }
 },
 "nbformat": 4,
 "nbformat_minor": 5
}
