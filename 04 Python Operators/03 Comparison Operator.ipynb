{
 "cells": [
  {
   "cell_type": "markdown",
   "id": "73cd3b2b",
   "metadata": {},
   "source": [
    "# Python Biginner Course by Purvi Rawal\n",
    "\n",
    "## Python Operators\n",
    "\n",
    "### Comparison Operatros\n",
    "\n",
    "\n",
    "* **Equal: a == b**\n",
    "* **Not equal: a != b**\n",
    "* **Greater than: a > b**\n",
    "* **Less than: a < b**\n",
    "* **Greater than or equal to: a >= b**\n",
    "* **Less than or equal to: a <= b**"
   ]
  },
  {
   "cell_type": "code",
   "execution_count": 2,
   "id": "7760902a",
   "metadata": {},
   "outputs": [
    {
     "name": "stdout",
     "output_type": "stream",
     "text": [
      "False\n"
     ]
    }
   ],
   "source": [
    "# == Equal: returns False because 5 is not equal to 4\n",
    "\n",
    "a = 4\n",
    "b = 5\n",
    "print(a == b)"
   ]
  },
  {
   "cell_type": "code",
   "execution_count": 4,
   "id": "2b27f404",
   "metadata": {},
   "outputs": [
    {
     "name": "stdout",
     "output_type": "stream",
     "text": [
      "True\n"
     ]
    }
   ],
   "source": [
    "# != Not equal: retruns True because 5 is not eual to 3\n",
    "\n",
    "x = 5\n",
    "y = 3\n",
    "print(x != y)"
   ]
  },
  {
   "cell_type": "code",
   "execution_count": 5,
   "id": "f9d3a586",
   "metadata": {},
   "outputs": [
    {
     "name": "stdout",
     "output_type": "stream",
     "text": [
      "True\n"
     ]
    }
   ],
   "source": [
    "# > Greater than: returns True because 5 is greater than 3\n",
    "\n",
    "a = 5\n",
    "b = 3\n",
    "print(a > b)"
   ]
  },
  {
   "cell_type": "code",
   "execution_count": 6,
   "id": "b3a86947",
   "metadata": {},
   "outputs": [
    {
     "name": "stdout",
     "output_type": "stream",
     "text": [
      "False\n"
     ]
    }
   ],
   "source": [
    "# < Less than: returns False because 7 is greater than 2\n",
    "\n",
    "x = 7\n",
    "y = 2\n",
    "print(x < y)"
   ]
  },
  {
   "cell_type": "code",
   "execution_count": 7,
   "id": "f4c65a5f",
   "metadata": {},
   "outputs": [
    {
     "name": "stdout",
     "output_type": "stream",
     "text": [
      "True\n"
     ]
    }
   ],
   "source": [
    "# >= Greater than or equal to: retruns True because 10 is greater then 7\n",
    "\n",
    "a = 10\n",
    "b = 7\n",
    "print(a >= b)"
   ]
  },
  {
   "cell_type": "code",
   "execution_count": 9,
   "id": "1166316b",
   "metadata": {},
   "outputs": [
    {
     "name": "stdout",
     "output_type": "stream",
     "text": [
      "True\n"
     ]
    }
   ],
   "source": [
    "# <= Less than or equal to: return True because 10 is equal to 10.0\n",
    "\n",
    "x = 10\n",
    "y = 10.0\n",
    "print(x <= y)"
   ]
  }
 ],
 "metadata": {
  "kernelspec": {
   "display_name": "Python 3 (ipykernel)",
   "language": "python",
   "name": "python3"
  },
  "language_info": {
   "codemirror_mode": {
    "name": "ipython",
    "version": 3
   },
   "file_extension": ".py",
   "mimetype": "text/x-python",
   "name": "python",
   "nbconvert_exporter": "python",
   "pygments_lexer": "ipython3",
   "version": "3.9.7"
  }
 },
 "nbformat": 4,
 "nbformat_minor": 5
}
