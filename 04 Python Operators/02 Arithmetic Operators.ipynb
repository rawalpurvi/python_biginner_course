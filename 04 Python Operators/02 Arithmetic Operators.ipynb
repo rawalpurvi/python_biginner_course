{
 "cells": [
  {
   "cell_type": "markdown",
   "id": "848e8a03",
   "metadata": {},
   "source": [
    "# Python Beginner Course by Purvi Rawal\n",
    "\n",
    "## Python Operators\n",
    "\n",
    "### 1. Arithmetic Operators\n",
    "\n",
    "* **Addition**\n",
    "* **Subtraction**\n",
    "* **Multiplication**\n",
    "* **Division**\n",
    "* **Modulus**\n",
    "* **Exponentiation**\n",
    "* **Floor division**"
   ]
  },
  {
   "cell_type": "code",
   "execution_count": 1,
   "id": "f2784547",
   "metadata": {},
   "outputs": [
    {
     "name": "stdout",
     "output_type": "stream",
     "text": [
      "8\n"
     ]
    }
   ],
   "source": [
    "# +  Addition operator\n",
    "\n",
    "a = 3\n",
    "b = 5\n",
    "print(a+b)"
   ]
  },
  {
   "cell_type": "code",
   "execution_count": 2,
   "id": "e36a7236",
   "metadata": {},
   "outputs": [
    {
     "name": "stdout",
     "output_type": "stream",
     "text": [
      "5\n"
     ]
    }
   ],
   "source": [
    "# - Subtaction operator\n",
    "\n",
    "x = 10\n",
    "y = 15\n",
    "print(y-x)"
   ]
  },
  {
   "cell_type": "code",
   "execution_count": 3,
   "id": "44842521",
   "metadata": {},
   "outputs": [
    {
     "name": "stdout",
     "output_type": "stream",
     "text": [
      "40\n"
     ]
    }
   ],
   "source": [
    "# * Multiplication operator\n",
    "\n",
    "a = 5\n",
    "b = 8\n",
    "print(a*b)"
   ]
  },
  {
   "cell_type": "code",
   "execution_count": 4,
   "id": "fc6f8ad4",
   "metadata": {},
   "outputs": [
    {
     "name": "stdout",
     "output_type": "stream",
     "text": [
      "5.0\n"
     ]
    }
   ],
   "source": [
    "# * Division operator\n",
    "\n",
    "x = 10\n",
    "y = 2\n",
    "print(x/2)"
   ]
  },
  {
   "cell_type": "code",
   "execution_count": 5,
   "id": "0233a58d",
   "metadata": {},
   "outputs": [
    {
     "name": "stdout",
     "output_type": "stream",
     "text": [
      "1\n"
     ]
    }
   ],
   "source": [
    "# % Modulus: Returns value of reminder\n",
    "\n",
    "a = 7\n",
    "b = 3\n",
    "print(a % b)"
   ]
  },
  {
   "cell_type": "code",
   "execution_count": 6,
   "id": "1d230495",
   "metadata": {},
   "outputs": [
    {
     "name": "stdout",
     "output_type": "stream",
     "text": [
      "32\n"
     ]
    }
   ],
   "source": [
    "# ** Exponentiation: same as 2*2*2*2*2\n",
    "\n",
    "x = 2\n",
    "y = 5\n",
    "print(x ** y)"
   ]
  },
  {
   "cell_type": "code",
   "execution_count": 7,
   "id": "c21f84d1",
   "metadata": {},
   "outputs": [
    {
     "name": "stdout",
     "output_type": "stream",
     "text": [
      "5\n"
     ]
    }
   ],
   "source": [
    "# // Floor Division: the floor division // rounds the result down to the nearest whole number\n",
    "\n",
    "a = 16\n",
    "b = 3\n",
    "print(a // b)"
   ]
  }
 ],
 "metadata": {
  "kernelspec": {
   "display_name": "Python 3 (ipykernel)",
   "language": "python",
   "name": "python3"
  },
  "language_info": {
   "codemirror_mode": {
    "name": "ipython",
    "version": 3
   },
   "file_extension": ".py",
   "mimetype": "text/x-python",
   "name": "python",
   "nbconvert_exporter": "python",
   "pygments_lexer": "ipython3",
   "version": "3.9.7"
  }
 },
 "nbformat": 4,
 "nbformat_minor": 5
}
