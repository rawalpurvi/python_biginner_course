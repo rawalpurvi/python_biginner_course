{
 "cells": [
  {
   "cell_type": "markdown",
   "id": "982ecd3d",
   "metadata": {},
   "source": [
    "# Python Beginner Course by Purvi Rawal\n",
    "\n",
    "\n",
    "## Python Operators\n",
    "\n",
    "Operators are very important part in any programming language. In Python programming Arithmetic Operators, Comparision Operators and Logical Operators are very useful to make decision. We will learn each of them with examples.\n",
    "\n",
    "* **Arithmetic Operator**\n",
    "\n",
    "Arithmetic operators are used with numeric values to perform common mathematical operations.\n",
    "\n",
    "* **Comparision Operator**\n",
    "\n",
    "Comparison operators are used to compare two values.It retruns boolean value True or False.\n",
    "\n",
    "* **Logical Operators**\n",
    "\n",
    "Logical operators are used to combine conditional statements and also returns boolean value True or False.\n"
   ]
  }
 ],
 "metadata": {
  "kernelspec": {
   "display_name": "Python 3 (ipykernel)",
   "language": "python",
   "name": "python3"
  },
  "language_info": {
   "codemirror_mode": {
    "name": "ipython",
    "version": 3
   },
   "file_extension": ".py",
   "mimetype": "text/x-python",
   "name": "python",
   "nbconvert_exporter": "python",
   "pygments_lexer": "ipython3",
   "version": "3.9.7"
  }
 },
 "nbformat": 4,
 "nbformat_minor": 5
}
