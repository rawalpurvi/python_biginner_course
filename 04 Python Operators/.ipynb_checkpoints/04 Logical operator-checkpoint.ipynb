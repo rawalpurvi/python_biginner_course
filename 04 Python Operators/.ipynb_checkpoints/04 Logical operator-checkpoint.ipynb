{
 "cells": [
  {
   "cell_type": "markdown",
   "id": "b0b971ab",
   "metadata": {},
   "source": [
    "# Python Beginner Course by Purvi Rawal\n",
    "\n",
    "## Python Operators\n",
    "\n",
    "### Logical operator\n",
    "\n",
    "\n",
    "* **and : Returns True if both statements are true**\n",
    "* **or : Returns True if one of the statements is true**\n",
    "* **not : Reverse the result, returns False if the result is true**"
   ]
  },
  {
   "cell_type": "code",
   "execution_count": 1,
   "id": "76253f77",
   "metadata": {},
   "outputs": [
    {
     "name": "stdout",
     "output_type": "stream",
     "text": [
      "False\n"
     ]
    }
   ],
   "source": [
    "# and operator : Returns False because one condition is false\n",
    "\n",
    "x = 15\n",
    "print(x > 7 and x < 15)"
   ]
  },
  {
   "cell_type": "code",
   "execution_count": 2,
   "id": "c89f9c79",
   "metadata": {},
   "outputs": [
    {
     "name": "stdout",
     "output_type": "stream",
     "text": [
      "True\n"
     ]
    }
   ],
   "source": [
    "# or operator : Returns True because one condition is true\n",
    "y = 20\n",
    "print( y > 10 or y <= 5)"
   ]
  },
  {
   "cell_type": "code",
   "execution_count": 3,
   "id": "729d1cba",
   "metadata": {},
   "outputs": [
    {
     "name": "stdout",
     "output_type": "stream",
     "text": [
      "True\n"
     ]
    }
   ],
   "source": [
    "# not operator : Return True because reverse the reuslt\n",
    "\n",
    "a = 8\n",
    "\n",
    "print(not(a > 9 and a < 5))"
   ]
  }
 ],
 "metadata": {
  "kernelspec": {
   "display_name": "Python 3 (ipykernel)",
   "language": "python",
   "name": "python3"
  },
  "language_info": {
   "codemirror_mode": {
    "name": "ipython",
    "version": 3
   },
   "file_extension": ".py",
   "mimetype": "text/x-python",
   "name": "python",
   "nbconvert_exporter": "python",
   "pygments_lexer": "ipython3",
   "version": "3.9.7"
  }
 },
 "nbformat": 4,
 "nbformat_minor": 5
}
