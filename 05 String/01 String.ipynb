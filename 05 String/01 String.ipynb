{
 "cells": [
  {
   "cell_type": "markdown",
   "id": "95fee08c",
   "metadata": {},
   "source": [
    "# Python Beginner Course by Purvi Rawal\n",
    "\n",
    "## String\n",
    "\n",
    "### Introduction\n",
    "\n",
    "String is a sequences of characters, using the systex of either single quote or double quotes. \n",
    "\n",
    "* **'hello'**\n",
    "* **\"Hello\"**\n",
    "* **\"That's wonderful!\"**\n",
    "\n",
    "Because string is ordered sequnces it means we can using indexing and slicing to grab sub-sections of the string. \n",
    "\n",
    "Each character has order assigned for example in string **\"Hello\"** indexing starts with 0 so sequnce of numbers for string are **01234** .   \n",
    "\n",
    "* **H = 0**\n",
    "* **e = 1**\n",
    "* **l = 2**\n",
    "* **l = 3**\n",
    "* **o = 4**\n",
    "\n",
    "String can retrive from reverse ordered index as well. \n",
    "\n",
    "* **H = 0**\n",
    "* **e = -4**\n",
    "* **l = -3**\n",
    "* **l = -2**\n",
    "* **o = -1**"
   ]
  }
 ],
 "metadata": {
  "kernelspec": {
   "display_name": "Python 3 (ipykernel)",
   "language": "python",
   "name": "python3"
  },
  "language_info": {
   "codemirror_mode": {
    "name": "ipython",
    "version": 3
   },
   "file_extension": ".py",
   "mimetype": "text/x-python",
   "name": "python",
   "nbconvert_exporter": "python",
   "pygments_lexer": "ipython3",
   "version": "3.9.7"
  }
 },
 "nbformat": 4,
 "nbformat_minor": 5
}
