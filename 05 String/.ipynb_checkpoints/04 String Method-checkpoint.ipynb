{
 "cells": [
  {
   "cell_type": "markdown",
   "id": "f219ee1c",
   "metadata": {},
   "source": [
    "# Python Beginner Course by Purvi Rawal\n",
    "\n",
    "## String\n",
    "\n",
    "### String Methods\n",
    "\n",
    "Python has a set of built-in methods that you can use on strings. We will learn some of the commenly use methods in programming. Method does not effect the orignal string. Need to use parathaces () to use these methods.\n",
    "\n",
    "* **upper()**\n",
    "* **lower()**\n",
    "* **split()**\n",
    "* **replace()**\n",
    "* **join()**\n",
    "* **strip()**"
   ]
  },
  {
   "cell_type": "code",
   "execution_count": 1,
   "id": "f6796e74",
   "metadata": {},
   "outputs": [
    {
     "data": {
      "text/plain": [
       "'HELLO'"
      ]
     },
     "execution_count": 1,
     "metadata": {},
     "output_type": "execute_result"
    }
   ],
   "source": [
    "# The upper() method returns the string in upper case:\n",
    "\n",
    "x = 'Hello'\n",
    "x.upper()"
   ]
  },
  {
   "cell_type": "code",
   "execution_count": 2,
   "id": "73390117",
   "metadata": {},
   "outputs": [
    {
     "data": {
      "text/plain": [
       "'hello'"
      ]
     },
     "execution_count": 2,
     "metadata": {},
     "output_type": "execute_result"
    }
   ],
   "source": [
    "# The lower() method returns the string in lower case:\n",
    "\n",
    "x.lower()"
   ]
  },
  {
   "cell_type": "code",
   "execution_count": 3,
   "id": "be8190f9",
   "metadata": {},
   "outputs": [
    {
     "data": {
      "text/plain": [
       "['Hello', 'World']"
      ]
     },
     "execution_count": 3,
     "metadata": {},
     "output_type": "execute_result"
    }
   ],
   "source": [
    "# Splits the string at the specified separator, and returns a list\n",
    "# Defult it can split by white space\n",
    "\n",
    "y = \"Hello World\"\n",
    "y.split()"
   ]
  },
  {
   "cell_type": "code",
   "execution_count": 4,
   "id": "fd602251",
   "metadata": {},
   "outputs": [
    {
     "data": {
      "text/plain": [
       "['Hell', ' W', 'rld']"
      ]
     },
     "execution_count": 4,
     "metadata": {},
     "output_type": "execute_result"
    }
   ],
   "source": [
    "# we can pass any character name as well in split() method\n",
    "\n",
    "y.split('o')"
   ]
  },
  {
   "cell_type": "code",
   "execution_count": 5,
   "id": "a1b77dff",
   "metadata": {},
   "outputs": [
    {
     "data": {
      "text/plain": [
       "'Hi, Pam!'"
      ]
     },
     "execution_count": 5,
     "metadata": {},
     "output_type": "execute_result"
    }
   ],
   "source": [
    "# The replace() returns a string where a specified value is replaced with a specified value\n",
    "\n",
    "a = \"Hi, Sam!\"\n",
    "a.replace(\"Sam\",\"Pam\")"
   ]
  },
  {
   "cell_type": "code",
   "execution_count": 6,
   "id": "0c645b24",
   "metadata": {},
   "outputs": [
    {
     "name": "stdout",
     "output_type": "stream",
     "text": [
      "P-u-r-v-i- -R-a-w-a-l\n"
     ]
    }
   ],
   "source": [
    "# Joins the elements of an iterable to the end of the string\n",
    "\n",
    "a = \"Purvi Rawal\"\n",
    "print(\"-\".join(a))"
   ]
  },
  {
   "cell_type": "code",
   "execution_count": 7,
   "id": "877aa195",
   "metadata": {},
   "outputs": [
    {
     "data": {
      "text/plain": [
       "'Hello World'"
      ]
     },
     "execution_count": 7,
     "metadata": {},
     "output_type": "execute_result"
    }
   ],
   "source": [
    "# The strip() method removes any whitespace from the beginning or the end:\n",
    "\n",
    "x = \" Hello World \"\n",
    "x.strip()"
   ]
  }
 ],
 "metadata": {
  "kernelspec": {
   "display_name": "Python 3 (ipykernel)",
   "language": "python",
   "name": "python3"
  },
  "language_info": {
   "codemirror_mode": {
    "name": "ipython",
    "version": 3
   },
   "file_extension": ".py",
   "mimetype": "text/x-python",
   "name": "python",
   "nbconvert_exporter": "python",
   "pygments_lexer": "ipython3",
   "version": "3.9.7"
  }
 },
 "nbformat": 4,
 "nbformat_minor": 5
}
