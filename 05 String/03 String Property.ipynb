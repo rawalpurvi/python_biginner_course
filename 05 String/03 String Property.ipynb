{
 "cells": [
  {
   "cell_type": "markdown",
   "id": "39396528",
   "metadata": {},
   "source": [
    "# Python Beginner Course by Purvi Rawal\n",
    "\n",
    "## String\n",
    "\n",
    "### String Property\n",
    "\n",
    "#### Immutability\n",
    "\n",
    "String can not mutate or change. Let's see the example."
   ]
  },
  {
   "cell_type": "code",
   "execution_count": 1,
   "id": "1dee5bd0",
   "metadata": {},
   "outputs": [
    {
     "ename": "TypeError",
     "evalue": "'str' object does not support item assignment",
     "output_type": "error",
     "traceback": [
      "\u001b[0;31m---------------------------------------------------------------------------\u001b[0m",
      "\u001b[0;31mTypeError\u001b[0m                                 Traceback (most recent call last)",
      "Cell \u001b[0;32mIn[1], line 4\u001b[0m\n\u001b[1;32m      1\u001b[0m \u001b[38;5;66;03m# String immutable example\u001b[39;00m\n\u001b[1;32m      3\u001b[0m name \u001b[38;5;241m=\u001b[39m \u001b[38;5;124m\"\u001b[39m\u001b[38;5;124mSam\u001b[39m\u001b[38;5;124m\"\u001b[39m\n\u001b[0;32m----> 4\u001b[0m \u001b[43mname\u001b[49m\u001b[43m[\u001b[49m\u001b[38;5;241;43m0\u001b[39;49m\u001b[43m]\u001b[49m \u001b[38;5;241m=\u001b[39m \u001b[38;5;124m\"\u001b[39m\u001b[38;5;124mP\u001b[39m\u001b[38;5;124m\"\u001b[39m\n",
      "\u001b[0;31mTypeError\u001b[0m: 'str' object does not support item assignment"
     ]
    }
   ],
   "source": [
    "# String immutable example\n",
    "\n",
    "name = \"Sam\"\n",
    "name[0] = \"P\""
   ]
  },
  {
   "cell_type": "markdown",
   "id": "0cf07005",
   "metadata": {},
   "source": [
    "#### String concatenation \n",
    "\n",
    "We can not change string directly with assigning operator. But two string can be add by + sign calles string concatination. We can set the name 'pam' in new variable using string concatenation.\n",
    "\n",
    "Sometimes string concatenation can be done by * sign as well."
   ]
  },
  {
   "cell_type": "code",
   "execution_count": 2,
   "id": "c82f6885",
   "metadata": {},
   "outputs": [
    {
     "name": "stdout",
     "output_type": "stream",
     "text": [
      "Pam\n"
     ]
    }
   ],
   "source": [
    "# We can change name Sam to Pam in new variable\n",
    "\n",
    "change_name = 'P' + name[1:]\n",
    "print(change_name)"
   ]
  },
  {
   "cell_type": "code",
   "execution_count": 3,
   "id": "a58561cc",
   "metadata": {},
   "outputs": [
    {
     "name": "stdout",
     "output_type": "stream",
     "text": [
      "Hi! This is Python Beginner Course.\n"
     ]
    }
   ],
   "source": [
    "# Another example of string concatenation. \n",
    "\n",
    "x = \"Hi!\"\n",
    "x = x + \" This is Python Beginner Course.\"\n",
    "print(x)"
   ]
  },
  {
   "cell_type": "code",
   "execution_count": 4,
   "id": "d13ee290",
   "metadata": {},
   "outputs": [
    {
     "name": "stdout",
     "output_type": "stream",
     "text": [
      "zzzzzzzzzz\n"
     ]
    }
   ],
   "source": [
    "# String concatenation by * sign\n",
    "\n",
    "y = \"z\"\n",
    "print(y * 10)"
   ]
  },
  {
   "cell_type": "markdown",
   "id": "8541bd87",
   "metadata": {},
   "source": [
    "**Comman mistake**\n",
    "\n",
    "Avoid comman mistakes with String Concatenation with + sign, need to check Data Types. "
   ]
  },
  {
   "cell_type": "code",
   "execution_count": 5,
   "id": "718fb8ea",
   "metadata": {},
   "outputs": [
    {
     "ename": "TypeError",
     "evalue": "can only concatenate str (not \"int\") to str",
     "output_type": "error",
     "traceback": [
      "\u001b[0;31m---------------------------------------------------------------------------\u001b[0m",
      "\u001b[0;31mTypeError\u001b[0m                                 Traceback (most recent call last)",
      "Cell \u001b[0;32mIn[5], line 4\u001b[0m\n\u001b[1;32m      1\u001b[0m \u001b[38;5;66;03m# Example of comman mistake\u001b[39;00m\n\u001b[1;32m      3\u001b[0m x \u001b[38;5;241m=\u001b[39m \u001b[38;5;124m'\u001b[39m\u001b[38;5;124mthirty\u001b[39m\u001b[38;5;124m'\u001b[39m\n\u001b[0;32m----> 4\u001b[0m y \u001b[38;5;241m=\u001b[39m \u001b[43mx\u001b[49m\u001b[43m \u001b[49m\u001b[38;5;241;43m+\u001b[39;49m\u001b[43m \u001b[49m\u001b[38;5;241;43m4\u001b[39;49m\n",
      "\u001b[0;31mTypeError\u001b[0m: can only concatenate str (not \"int\") to str"
     ]
    }
   ],
   "source": [
    "# Example of comman mistake\n",
    "\n",
    "x = 'thirty'\n",
    "y = x + 4"
   ]
  },
  {
   "cell_type": "code",
   "execution_count": 6,
   "id": "e4f79e2f",
   "metadata": {},
   "outputs": [
    {
     "name": "stdout",
     "output_type": "stream",
     "text": [
      "thrity four\n"
     ]
    }
   ],
   "source": [
    "x = 'thrity'\n",
    "y = x + ' four'\n",
    "print(y)"
   ]
  }
 ],
 "metadata": {
  "kernelspec": {
   "display_name": "Python 3 (ipykernel)",
   "language": "python",
   "name": "python3"
  },
  "language_info": {
   "codemirror_mode": {
    "name": "ipython",
    "version": 3
   },
   "file_extension": ".py",
   "mimetype": "text/x-python",
   "name": "python",
   "nbconvert_exporter": "python",
   "pygments_lexer": "ipython3",
   "version": "3.9.7"
  }
 },
 "nbformat": 4,
 "nbformat_minor": 5
}
