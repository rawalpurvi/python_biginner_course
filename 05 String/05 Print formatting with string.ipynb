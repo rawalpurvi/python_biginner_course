{
 "cells": [
  {
   "cell_type": "markdown",
   "id": "6fd449dc",
   "metadata": {},
   "source": [
    "# Python Beginner Course by Purvi Rawal\n",
    "\n",
    "## String\n",
    "\n",
    "### Print formatting with string\n",
    "\n",
    "As we learned we cannot combine strings and numbers with + sign concatenation. But we can use string format to add varibale value to the string. Often you will want to\"inject\" a variable into your string for printing. This is calles string interpolation.\n",
    "\n",
    "Two methods we can use to format the string\n",
    "\n",
    "* **format()**\n",
    "* **f-string(formatted string literals)**\n",
    "\n",
    "\n",
    "#### Formatting with the .foramt() method\n",
    "\n",
    "A good way to format objects into your strings for print statemets is with the string.format() method. The syntex is:\n",
    "\n",
    "'Hi {} {}, Have Good Day!'.format(first_name,last_name)"
   ]
  },
  {
   "cell_type": "code",
   "execution_count": 1,
   "id": "ab81def0",
   "metadata": {},
   "outputs": [
    {
     "name": "stdout",
     "output_type": "stream",
     "text": [
      "Hello World!\n"
     ]
    }
   ],
   "source": [
    "# Example of .format() method\n",
    "print(\"Hello {}!\".format(\"World\"))"
   ]
  },
  {
   "cell_type": "code",
   "execution_count": 2,
   "id": "d3c758c8",
   "metadata": {},
   "outputs": [
    {
     "name": "stdout",
     "output_type": "stream",
     "text": [
      "List of vagetabels are tomatoes, carrots, spinach.\n"
     ]
    }
   ],
   "source": [
    "# By default .format() method put the variables in ordered.\n",
    "\n",
    "print(\"List of vagetabels are {}, {}, {}.\".format('tomatoes','carrots','spinach'))"
   ]
  },
  {
   "cell_type": "code",
   "execution_count": 3,
   "id": "7af86407",
   "metadata": {},
   "outputs": [
    {
     "name": "stdout",
     "output_type": "stream",
     "text": [
      "List of vagetabels are carrots, tomatoes, spinach.\n"
     ]
    }
   ],
   "source": [
    "# we can give them order too. Index starts with 0. Tomatos has index 0. \n",
    "\n",
    "print(\"List of vagetabels are {1}, {0}, {2}.\".format('tomatoes','carrots','spinach'))"
   ]
  },
  {
   "cell_type": "code",
   "execution_count": 4,
   "id": "967b112b",
   "metadata": {},
   "outputs": [
    {
     "name": "stdout",
     "output_type": "stream",
     "text": [
      "List of vagetabels are tomatoes, carrots, spinach.\n"
     ]
    }
   ],
   "source": [
    "# Also assign a varibale\n",
    "\n",
    "print(\"List of vagetabels are {t}, {c}, {s}.\".format(t='tomatoes',c='carrots',s='spinach'))"
   ]
  },
  {
   "cell_type": "code",
   "execution_count": 5,
   "id": "89a602d6",
   "metadata": {},
   "outputs": [
    {
     "name": "stdout",
     "output_type": "stream",
     "text": [
      "0.3003003003003003\n"
     ]
    }
   ],
   "source": [
    "result = 100/333\n",
    "print(result)"
   ]
  },
  {
   "cell_type": "code",
   "execution_count": 6,
   "id": "10efffc9",
   "metadata": {},
   "outputs": [
    {
     "name": "stdout",
     "output_type": "stream",
     "text": [
      "The result is 0.300\n"
     ]
    }
   ],
   "source": [
    "# Float formatting follows \"{value:width.precision f}\"\n",
    "\n",
    "print(\"The result is {r:1.3f}\".format(r=result))"
   ]
  },
  {
   "cell_type": "markdown",
   "id": "9580165d",
   "metadata": {},
   "source": [
    "####  f-string(formatted string literals)\n",
    "\n",
    "This method is use from python 3.6 version. In that mathod we can put variable name inside the {}. The syntax for this method.\n",
    "\n",
    "print(f'My name is {name}')"
   ]
  },
  {
   "cell_type": "code",
   "execution_count": 7,
   "id": "09852c09",
   "metadata": {},
   "outputs": [
    {
     "name": "stdout",
     "output_type": "stream",
     "text": [
      "My name is Purvi\n"
     ]
    }
   ],
   "source": [
    "name = \"Purvi\"\n",
    "\n",
    "print(f'My name is {name}')"
   ]
  },
  {
   "cell_type": "code",
   "execution_count": 8,
   "id": "b31eabea",
   "metadata": {},
   "outputs": [
    {
     "name": "stdout",
     "output_type": "stream",
     "text": [
      "Sam is 10 years old.\n"
     ]
    }
   ],
   "source": [
    "name = 'Sam'\n",
    "age = '10'\n",
    "print(f'{name} is {age} years old.')"
   ]
  }
 ],
 "metadata": {
  "kernelspec": {
   "display_name": "Python 3 (ipykernel)",
   "language": "python",
   "name": "python3"
  },
  "language_info": {
   "codemirror_mode": {
    "name": "ipython",
    "version": 3
   },
   "file_extension": ".py",
   "mimetype": "text/x-python",
   "name": "python",
   "nbconvert_exporter": "python",
   "pygments_lexer": "ipython3",
   "version": "3.9.7"
  }
 },
 "nbformat": 4,
 "nbformat_minor": 5
}
