{
 "cells": [
  {
   "cell_type": "markdown",
   "id": "28c59ec1",
   "metadata": {},
   "source": [
    "# Python Biginner Course by Purvi Rawal\n",
    "\n",
    "## String\n",
    "\n",
    "### Indexing and Slicing\n",
    "\n",
    "#### Indexing\n",
    "\n",
    "As we learned in String introduction \"string\" is ordered squece of characters. As we learned ecah character has index value from start to end and reverse as well. Indexing and slicing allows to get single or set of characters from string. Square brackets [ ] can be used to access characters of the string."
   ]
  },
  {
   "cell_type": "code",
   "execution_count": 1,
   "id": "80c3878d",
   "metadata": {},
   "outputs": [
    {
     "name": "stdout",
     "output_type": "stream",
     "text": [
      "P\n"
     ]
    }
   ],
   "source": [
    "# Example of indexing : returns first letter of the string.\n",
    "\n",
    "name = \"Purvi\"\n",
    "print(name[0])"
   ]
  },
  {
   "cell_type": "code",
   "execution_count": 2,
   "id": "7338698a",
   "metadata": {},
   "outputs": [
    {
     "name": "stdout",
     "output_type": "stream",
     "text": [
      "i\n"
     ]
    }
   ],
   "source": [
    "# Example of indexing: retruns last character of string\n",
    "\n",
    "print(name[4])"
   ]
  },
  {
   "cell_type": "code",
   "execution_count": 3,
   "id": "051f41dd",
   "metadata": {},
   "outputs": [
    {
     "name": "stdout",
     "output_type": "stream",
     "text": [
      "i\n"
     ]
    }
   ],
   "source": [
    "# Example of reverse indexing: retruns last character of string\n",
    "\n",
    "print(name[-1])"
   ]
  },
  {
   "cell_type": "markdown",
   "id": "cb99deff",
   "metadata": {},
   "source": [
    "#### Slicing \n",
    "\n",
    "You can return a range of characters by using the slice syntax. Specify the start index and the end index, separated by a colon, to return a part of the string. Define start and end in brackets [start:end] to retrive set of string."
   ]
  },
  {
   "cell_type": "code",
   "execution_count": 4,
   "id": "1e080f3b",
   "metadata": {},
   "outputs": [
    {
     "name": "stdout",
     "output_type": "stream",
     "text": [
      "rvi\n"
     ]
    }
   ],
   "source": [
    "# Example of slicing : return characters from index 2 to 4\n",
    "print(name[2:5])"
   ]
  },
  {
   "cell_type": "code",
   "execution_count": 5,
   "id": "62db6733",
   "metadata": {},
   "outputs": [
    {
     "name": "stdout",
     "output_type": "stream",
     "text": [
      "Purv\n"
     ]
    }
   ],
   "source": [
    "# Example of slicing : retun character from start to index 3\n",
    "print(name[:4])"
   ]
  },
  {
   "cell_type": "code",
   "execution_count": 6,
   "id": "7559039c",
   "metadata": {},
   "outputs": [
    {
     "name": "stdout",
     "output_type": "stream",
     "text": [
      "rvi\n"
     ]
    }
   ],
   "source": [
    "# Example of negetive slicing : return characters from index -3 to end\n",
    "print(name[-3:])"
   ]
  },
  {
   "cell_type": "code",
   "execution_count": 7,
   "id": "ec680654",
   "metadata": {},
   "outputs": [
    {
     "name": "stdout",
     "output_type": "stream",
     "text": [
      "rv\n"
     ]
    }
   ],
   "source": [
    "# Example of negetive slicing : return characters from index -3 to -1\n",
    "print(name[-3:-1])"
   ]
  },
  {
   "cell_type": "code",
   "execution_count": 8,
   "id": "98572aeb",
   "metadata": {},
   "outputs": [
    {
     "name": "stdout",
     "output_type": "stream",
     "text": [
      "ivruP\n"
     ]
    }
   ],
   "source": [
    "# Reverse string using slicing\n",
    "print(name[::-1]) # you can also define step size [start:end:step]"
   ]
  },
  {
   "cell_type": "code",
   "execution_count": 9,
   "id": "b0906f34",
   "metadata": {},
   "outputs": [
    {
     "name": "stdout",
     "output_type": "stream",
     "text": [
      "P\n",
      "P\n"
     ]
    }
   ],
   "source": [
    "# Access first element with index 0 as well as negative index\n",
    "print(name[-5])\n",
    "print(name[0])"
   ]
  }
 ],
 "metadata": {
  "kernelspec": {
   "display_name": "Python 3 (ipykernel)",
   "language": "python",
   "name": "python3"
  },
  "language_info": {
   "codemirror_mode": {
    "name": "ipython",
    "version": 3
   },
   "file_extension": ".py",
   "mimetype": "text/x-python",
   "name": "python",
   "nbconvert_exporter": "python",
   "pygments_lexer": "ipython3",
   "version": "3.9.7"
  }
 },
 "nbformat": 4,
 "nbformat_minor": 5
}
