{
 "cells": [
  {
   "cell_type": "markdown",
   "id": "d4a08698",
   "metadata": {},
   "source": [
    "# Python Beginner Course by Purvi Rawal\n",
    "\n",
    "## File Handling\n",
    "\n",
    "### Binary Data\n",
    "\n",
    "A binary file is a file whose content is in a binary format consisting of a series of sequential bytes, each of which is eight bits in length. The content must be interpreted by a program or a hardware processor that understands in advance exactly how that content is formatted and how to read the data. \n",
    "\n",
    "All you need to do is take your data and change it into the image or sound file, rather then having a text file. With Python, you can change any of the code that you want into a binary file. But you need to make sure that you work on the data in the right way to ensure that it is easier to retrive in that way you want later on.\n",
    "\n",
    "#### Syntex\n",
    "\n",
    "* **rb -** Read Binary - mode opens the file in binary format for reading.\n",
    "* **wb -** Write Binary - mode opens the file in binary format for writing."
   ]
  },
  {
   "cell_type": "code",
   "execution_count": 1,
   "id": "71eb5c5c",
   "metadata": {},
   "outputs": [],
   "source": [
    "# Example of write binary data to a file\n",
    "\n",
    "f = open(\"hello.dat\",\"wb\")\n",
    "f.write(\"This is a binary file!\".encode(encoding='UTF-8'))\n",
    "f.write(\"\\nLet's see how it works!\".encode(encoding='UTF-8'))\n",
    "f.close()"
   ]
  }
 ],
 "metadata": {
  "kernelspec": {
   "display_name": "Python 3 (ipykernel)",
   "language": "python",
   "name": "python3"
  },
  "language_info": {
   "codemirror_mode": {
    "name": "ipython",
    "version": 3
   },
   "file_extension": ".py",
   "mimetype": "text/x-python",
   "name": "python",
   "nbconvert_exporter": "python",
   "pygments_lexer": "ipython3",
   "version": "3.9.7"
  }
 },
 "nbformat": 4,
 "nbformat_minor": 5
}
