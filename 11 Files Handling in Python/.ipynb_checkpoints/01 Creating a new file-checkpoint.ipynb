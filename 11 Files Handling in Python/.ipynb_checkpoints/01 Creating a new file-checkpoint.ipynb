{
 "cells": [
  {
   "cell_type": "markdown",
   "id": "10b1bbcc",
   "metadata": {},
   "source": [
    "# Python Beginner Course by Purvi Rawal\n",
    "\n",
    "## File Handling\n",
    "\n",
    "### Introduction\n",
    "\n",
    "File handling is an important part of any web application. Python has several functions for creating, reading, updating, and deleting files.\n",
    "\n",
    "### Create a New File\n",
    "\n",
    "The key function for working with files in Python is the open() function. The open() function takes main two parameters; filename, and mode.\n",
    "\n",
    "There are four different methods (modes) for opening a file:\n",
    "\n",
    "* **\"r\" -** Read - Default value. Opens a file for reading, error if the file does not exist\n",
    "* **\"a\" -** Append - Opens a file for appending, creates the file if it does not exist\n",
    "* **\"w\" -** Write - Opens a file for writing, creates the file if it does not exist\n",
    "* **\"x\" -** Create - Creates the specified file, returns an error if the file exists\n",
    "\n",
    "In addition you can specify if the file should be handled as binary or text mode:\n",
    "\n",
    "* **\"t\" -** Text - Default value. Text mode\n",
    "* **\"b\" -** Binary - Binary mode (e.g. images)\n",
    "\n",
    "#### Syntax\n",
    "\n",
    "f = open(\"test.txt\") # Define without any mode\n",
    "\n",
    "f = open(\"test.txt\",\"rt\") # \"r\"  for reading and  \"t\"  for text file "
   ]
  },
  {
   "cell_type": "code",
   "execution_count": 1,
   "id": "8418d209",
   "metadata": {},
   "outputs": [],
   "source": [
    "# Example of creating a new file and write into the file\n",
    "\n",
    "f = open(\"hello.txt\",'w') # a new empty file is created!\n",
    "f.write(\"Python Beginner Course\")\n",
    "f.write(\"\\nThis is the File Handling chapter\")\n",
    "f.close()\n"
   ]
  },
  {
   "cell_type": "markdown",
   "id": "ac58fbd5",
   "metadata": {},
   "source": [
    "#### Write to an Existing File\n",
    "To write to an existing file, you must add a parameter to the open() function:\n",
    "\n",
    "* **\"a\" -** Append - will append to the end of the file\n",
    "\n",
    "* **\"w\" -** Write - will overwrite any existing content\n",
    "\n"
   ]
  },
  {
   "cell_type": "code",
   "execution_count": 2,
   "id": "2b36bd9e",
   "metadata": {},
   "outputs": [],
   "source": [
    "# Example of Open the file \"hello.txt\" and overwrite the content\n",
    "\n",
    "f = open(\"hello.txt\", 'w')\n",
    "f.write(\"Oops!! I have deleted the content!!\")\n",
    "f.close()"
   ]
  },
  {
   "cell_type": "code",
   "execution_count": 3,
   "id": "f3541de8",
   "metadata": {},
   "outputs": [],
   "source": [
    "# Example of open the file \"hello.txt\" and append the content\n",
    "\n",
    "f = open(\"hello.txt\", 'a')\n",
    "f.writelines(\"\\n Python Beginner Course \\n This is the File Handling Lesson.\") # Write multilines into the file\n",
    "f.close()"
   ]
  }
 ],
 "metadata": {
  "kernelspec": {
   "display_name": "Python 3 (ipykernel)",
   "language": "python",
   "name": "python3"
  },
  "language_info": {
   "codemirror_mode": {
    "name": "ipython",
    "version": 3
   },
   "file_extension": ".py",
   "mimetype": "text/x-python",
   "name": "python",
   "nbconvert_exporter": "python",
   "pygments_lexer": "ipython3",
   "version": "3.9.7"
  }
 },
 "nbformat": 4,
 "nbformat_minor": 5
}
