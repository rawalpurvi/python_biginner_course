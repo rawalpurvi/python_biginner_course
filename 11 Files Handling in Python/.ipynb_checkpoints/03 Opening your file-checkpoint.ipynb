{
 "cells": [
  {
   "cell_type": "markdown",
   "id": "ade414fc",
   "metadata": {},
   "source": [
    "# Python Beginner Course by Purvi Rawal\n",
    "\n",
    "## File Handling\n",
    "\n",
    "### Opening your file\n",
    "\n",
    "To open the file, use the built-in open() function. The open() function returns a file object, which has a read() method for reading the content of the file.\n",
    "\n",
    "* **r mode-** Read mode to read a file.\n",
    "* **rb mode-** Read mode to read a binary file."
   ]
  },
  {
   "cell_type": "code",
   "execution_count": 1,
   "id": "e8bd73e5",
   "metadata": {},
   "outputs": [
    {
     "name": "stdout",
     "output_type": "stream",
     "text": [
      "['Oops!! I have deleted the content!!\\n', ' Python Beginner Course \\n', ' This is the File Handling Lesson.\\n', \"Append file with 'with' keyword\"]\n"
     ]
    }
   ],
   "source": [
    "# Read \"hello.txt\"\n",
    "\n",
    "f = open(\"hello.txt\",'r')\n",
    "print(f.readlines()) # will return list of lines\n",
    "f.close()"
   ]
  },
  {
   "cell_type": "code",
   "execution_count": 2,
   "id": "bfb95185",
   "metadata": {},
   "outputs": [
    {
     "name": "stdout",
     "output_type": "stream",
     "text": [
      "This is a binary file!\n",
      "Let's see how it works!\n"
     ]
    }
   ],
   "source": [
    "# Read \"hello.dat\"\n",
    "\n",
    "f = open(\"hello.dat\",'rb')\n",
    "data = f.read()\n",
    "text = data.decode('utf-8')\n",
    "print(text)\n",
    "f.close()"
   ]
  },
  {
   "cell_type": "code",
   "execution_count": 3,
   "id": "5a76eed4",
   "metadata": {},
   "outputs": [
    {
     "name": "stdout",
     "output_type": "stream",
     "text": [
      "Oops!\n"
     ]
    }
   ],
   "source": [
    "# you can also specify how many characters you want to return\n",
    "\n",
    "f = open(\"hello.txt\", 'r')\n",
    "print(f.read(5))\n",
    "f.close()"
   ]
  },
  {
   "cell_type": "markdown",
   "id": "a2223b28",
   "metadata": {},
   "source": [
    "#### If the file is located in a different location, you will have to specify the file path, like this:"
   ]
  },
  {
   "cell_type": "code",
   "execution_count": 4,
   "id": "aefad768",
   "metadata": {},
   "outputs": [
    {
     "name": "stdout",
     "output_type": "stream",
     "text": [
      "Hello World!!\n",
      "This is file is located in a different location.\n"
     ]
    }
   ],
   "source": [
    "f = open(\"/Users/purvirawal/Applications/example.txt\",'r')\n",
    "print(f.read())\n",
    "f.close()"
   ]
  },
  {
   "cell_type": "markdown",
   "id": "6b304786",
   "metadata": {},
   "source": [
    "#### Open, read  and write file with \"with\"\n",
    "\n",
    "if you open file, you need to remember to close the file as well. But \"with\" keyword do not have to worry about to close the file. Let's see the examples."
   ]
  },
  {
   "cell_type": "code",
   "execution_count": 5,
   "id": "5ebefabd",
   "metadata": {},
   "outputs": [],
   "source": [
    "# Write a file \n",
    "\n",
    "with open(\"with_keyword.txt\",mode='w') as my_file:\n",
    "    my_file.write(\"This is a new file!!\")"
   ]
  },
  {
   "cell_type": "code",
   "execution_count": 6,
   "id": "cd0d306d",
   "metadata": {},
   "outputs": [],
   "source": [
    "# Append a file\n",
    "\n",
    "with open(\"with_keyword.txt\", mode='a') as f:\n",
    "    f.write(\"\\nAppend file with 'with' keyword\")"
   ]
  },
  {
   "cell_type": "code",
   "execution_count": 7,
   "id": "f7b01ec1",
   "metadata": {},
   "outputs": [
    {
     "name": "stdout",
     "output_type": "stream",
     "text": [
      "This is a new file!!\n",
      "Append file with 'with' keyword\n"
     ]
    }
   ],
   "source": [
    "# Read a file\n",
    "\n",
    "with open(\"with_keyword.txt\",mode='r') as f:\n",
    "    print(f.read())"
   ]
  }
 ],
 "metadata": {
  "kernelspec": {
   "display_name": "Python 3 (ipykernel)",
   "language": "python",
   "name": "python3"
  },
  "language_info": {
   "codemirror_mode": {
    "name": "ipython",
    "version": 3
   },
   "file_extension": ".py",
   "mimetype": "text/x-python",
   "name": "python",
   "nbconvert_exporter": "python",
   "pygments_lexer": "ipython3",
   "version": "3.9.7"
  }
 },
 "nbformat": 4,
 "nbformat_minor": 5
}
